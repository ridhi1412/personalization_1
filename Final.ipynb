{
 "cells": [
  {
   "cell_type": "markdown",
   "metadata": {},
   "source": [
    "# TODO:\n",
    "1. Using Large Dataset for modeling\n",
    "2. Writeup"
   ]
  },
  {
   "cell_type": "code",
   "execution_count": null,
   "metadata": {},
   "outputs": [],
   "source": [
    "# Importing Libraries\n",
    "import os\n",
    "%matplotlib inline\n",
    "\n",
    "import warnings\n",
    "warnings.simplefilter('ignore')\n",
    "\n",
    "# Loading custom built functions\n",
    "from model.nearest_neighbor_model import KNN\n",
    "from model.lightfm_model import lightfm_model\n",
    "from model.baseline_model import baseline_bias_model\n",
    "from model.als_model import get_best_rank, cross_validation, plot_performance_als\n",
    "from utils.data_loader import load_spark_df, load_pandas_df, spark_to_sparse, sample_data_frame\n",
    "\n",
    "from pyspark.ml.recommendation import ALS\n",
    "from pyspark.ml.tuning import ParamGridBuilder\n",
    "from surprise.prediction_algorithms.knns import KNNWithZScore"
   ]
  },
  {
   "cell_type": "markdown",
   "metadata": {},
   "source": [
    "## 1. Loading Data \n",
    "\n",
    "We implement a function to cache and load the dataframe from secondary memory to reduce data load time"
   ]
  },
  {
   "cell_type": "code",
   "execution_count": null,
   "metadata": {},
   "outputs": [
    {
     "name": "stdout",
     "output_type": "stream",
     "text": [
<<<<<<< HEAD
      "Loading from /media/anirudh/Data/Code/Fall 2019/Personalization/project/personalization_1/cache/ml-latest-small_movies.msgpack\n",
      "Loading from /media/anirudh/Data/Code/Fall 2019/Personalization/project/personalization_1/cache/ml-latest-small_ratings.msgpack\n",
      "Length before sampling: 100836\n",
      "Length after sampling: 90728\n",
      "Length after thresholding: 89913\n"
=======
      "Loading from P:\\rmahajan14\\columbia\\fall 2019\\Personalization\\project_1\\personalization_1/cache/ml-latest-small_movies.msgpack\n",
      "Loading from P:\\rmahajan14\\columbia\\fall 2019\\Personalization\\project_1\\personalization_1/cache/ml-latest-small_ratings.msgpack\n"
>>>>>>> a7d543d53bbd98f7a068297b5062ddbcdd9a5726
     ]
    }
   ],
   "source": [
    "    # Setting Directory path\n",
    "    base_path = os.getcwd()\n",
    "    dir_name = 'ml-latest-small'\n",
    "    CACHE_DIR = base_path + '/cache/'\n",
    "    DATA_DIR =  base_path + '/data/'\n",
    "\n",
    "    # Loading the Data Frames\n",
    "    movies_spark_df = load_spark_df(dir_name=dir_name, \n",
    "                                    file_name='movies', \n",
    "                                    use_cache=True,\n",
    "                                    DATA_DIR=DATA_DIR,\n",
    "                                    CACHE_DIR=CACHE_DIR\n",
    "                                   )\n",
    "\n",
<<<<<<< HEAD
    "ratings_spark_df = load_spark_df(dir_name=dir_name, \n",
    "                                 file_name='ratings', \n",
    "                                 use_cache=True,\n",
    "                                 DATA_DIR=DATA_DIR,\n",
    "                                 CACHE_DIR=CACHE_DIR)\n",
    "\n",
    "print('\\n')\n",
    "ratings_spark_df = sample_data_frame(ratings_spark_df, ratio=0.9, min_user_threshold=5, min_item_threshold=5)"
=======
    "    ratings_spark_df = load_spark_df(dir_name=dir_name, \n",
    "                                     file_name='ratings', \n",
    "                                     use_cache=True,\n",
    "                                     DATA_DIR=DATA_DIR,\n",
    "                                     CACHE_DIR=CACHE_DIR)"
>>>>>>> a7d543d53bbd98f7a068297b5062ddbcdd9a5726
   ]
  },
  {
   "cell_type": "markdown",
   "metadata": {},
   "source": [
    "## 2. Analysis of methods\n",
    "\n",
    "### 2.1 Baseline Method: Bias based model\n",
    "\n",
    "We first fit a bias only model to the data to set a benchmark for baseline model. "
   ]
  },
  {
   "cell_type": "code",
   "execution_count": null,
   "metadata": {},
   "outputs": [
    {
     "name": "stdout",
     "output_type": "stream",
     "text": [
      "Evaluating RMSE, MAE of algorithm BaselineOnly on 5 split(s).\n",
      "\n",
      "                  Fold 1  Fold 2  Fold 3  Fold 4  Fold 5  Mean    Std     \n",
<<<<<<< HEAD
      "RMSE (testset)    0.8823  0.8700  0.8791  0.8682  0.8757  0.8751  0.0053  \n",
      "MAE (testset)     0.6802  0.6738  0.6766  0.6682  0.6761  0.6750  0.0040  \n",
      "Fit time          0.04    0.04    0.04    0.04    0.04    0.04    0.00    \n",
      "Test time         0.05    0.06    0.06    0.05    0.05    0.05    0.00    \n",
      "\n",
      "\n",
      "CPU times: user 5.76 s, sys: 119 ms, total: 5.87 s\n",
      "Wall time: 6.59 s\n"
=======
      "RMSE (testset)    0.8733  0.8713  0.8729  0.8732  0.8751  0.8732  0.0012  \n",
      "MAE (testset)     0.6752  0.6697  0.6739  0.6722  0.6741  0.6730  0.0019  \n",
      "Fit time          0.15    0.05    0.07    0.07    0.05    0.08    0.04    \n",
      "Test time         0.14    0.08    0.09    0.08    0.07    0.09    0.03    \n",
      "\n",
      "\n",
      "Wall time: 22.9 s\n"
>>>>>>> a7d543d53bbd98f7a068297b5062ddbcdd9a5726
     ]
    }
   ],
   "source": [
    "%%time\n",
    "\n",
    "baseline_bias_model(ratings_spark_df)"
   ]
  },
  {
   "cell_type": "markdown",
   "metadata": {},
   "source": [
    "### 2.2 Model based method using Alternating Least Squares method\n",
    "\n",
    "We build a Matrix Factorization model using ALS method, and iterate over different rank ranges to find the optimal rank\n",
    "\n",
    "#### 2.2.1 Finding best hyperparameter setting using cross validation"
   ]
  },
  {
   "cell_type": "code",
   "execution_count": null,
   "metadata": {},
   "outputs": [
    {
     "name": "stdout",
     "output_type": "stream",
     "text": [
<<<<<<< HEAD
      "RMSE of Best Model on Test Set: 0.8623\n",
=======
      "RMSE of Best Model on Test Set: 0.8692\n",
>>>>>>> a7d543d53bbd98f7a068297b5062ddbcdd9a5726
      "Best Hyper-parameter combination for ALS Model:\n"
     ]
    },
    {
     "data": {
      "text/html": [
       "<div>\n",
       "<style scoped>\n",
       "    .dataframe tbody tr th:only-of-type {\n",
       "        vertical-align: middle;\n",
       "    }\n",
       "\n",
       "    .dataframe tbody tr th {\n",
       "        vertical-align: top;\n",
       "    }\n",
       "\n",
       "    .dataframe thead th {\n",
       "        text-align: right;\n",
       "    }\n",
       "</style>\n",
       "<table border=\"1\" class=\"dataframe\">\n",
       "  <thead>\n",
       "    <tr style=\"text-align: right;\">\n",
       "      <th></th>\n",
       "      <th>HyperParameter</th>\n",
       "      <th>Value</th>\n",
       "    </tr>\n",
       "  </thead>\n",
       "  <tbody>\n",
       "    <tr>\n",
       "      <th>0</th>\n",
       "      <td>maxIter</td>\n",
       "      <td>3</td>\n",
       "    </tr>\n",
       "    <tr>\n",
       "      <th>1</th>\n",
       "      <td>regParam</td>\n",
       "      <td>0.01</td>\n",
       "    </tr>\n",
       "    <tr>\n",
       "      <th>2</th>\n",
       "      <td>rank</td>\n",
       "      <td>128</td>\n",
       "    </tr>\n",
       "  </tbody>\n",
       "</table>\n",
       "</div>"
      ],
      "text/plain": [
       "  HyperParameter Value\n",
       "0        maxIter     3\n",
       "1       regParam  0.01\n",
       "2           rank   128"
      ]
     },
     "metadata": {},
     "output_type": "display_data"
    },
    {
     "name": "stdout",
     "output_type": "stream",
     "text": [
      "\n",
      "\n",
<<<<<<< HEAD
      "CPU times: user 898 ms, sys: 264 ms, total: 1.16 s\n",
      "Wall time: 1min 10s\n"
=======
      "Wall time: 29min 34s\n"
>>>>>>> a7d543d53bbd98f7a068297b5062ddbcdd9a5726
     ]
    }
   ],
   "source": [
    "%%time\n",
    "\n",
    "# Creating a Parameter Grid for ALS\n",
    "model = ALS(userCol=\"userId\",\n",
    "                  itemCol=\"movieId\",\n",
    "                  ratingCol=\"rating\",\n",
    "                  coldStartStrategy=\"drop\",\n",
    "                  nonnegative=True)\n",
    "\n",
    "paramGrid = ParamGridBuilder() \\\n",
    "            .addGrid(model.maxIter, [3]) \\\n",
    "            .addGrid(model.regParam, [0.01,0.1]) \\\n",
    "            .addGrid(model.rank, [64, 128]) \\\n",
    "            .build()\n",
    "\n",
    "# Finding best parameter combination from cross validation\n",
    "best_hyper_parameter, best_model = cross_validation(ratings_spark_df, \n",
    "                                                     model=model, \n",
    "                                                     evaluator='Regression', \n",
    "                                                     param_grid=paramGrid, \n",
    "                                                     k_folds=3)\n",
    "\n",
    "print(\"Best Hyper-parameter combination for ALS Model:\")\n",
    "display(best_hyper_parameter)\n",
    "print('\\n')"
   ]
  },
  {
   "cell_type": "markdown",
   "metadata": {},
   "source": [
    "#### 2.1.2 For diffrent ranks, plotting RMSE and coverage on training and test set"
   ]
  },
  {
   "cell_type": "code",
   "execution_count": null,
   "metadata": {
    "scrolled": false
   },
<<<<<<< HEAD
   "outputs": [
    {
     "data": {
      "image/png": "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\n",
      "text/plain": [
       "<Figure size 1440x360 with 2 Axes>"
      ]
     },
     "metadata": {
      "needs_background": "light"
     },
     "output_type": "display_data"
    },
    {
     "data": {
      "image/png": "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\n",
      "text/plain": [
       "<Figure size 1440x360 with 1 Axes>"
      ]
     },
     "metadata": {
      "needs_background": "light"
     },
     "output_type": "display_data"
    },
    {
     "name": "stdout",
     "output_type": "stream",
     "text": [
      "\n",
      "\n"
     ]
    },
    {
     "data": {
      "text/html": [
       "<div>\n",
       "<style scoped>\n",
       "    .dataframe tbody tr th:only-of-type {\n",
       "        vertical-align: middle;\n",
       "    }\n",
       "\n",
       "    .dataframe tbody tr th {\n",
       "        vertical-align: top;\n",
       "    }\n",
       "\n",
       "    .dataframe thead th {\n",
       "        text-align: right;\n",
       "    }\n",
       "</style>\n",
       "<table border=\"1\" class=\"dataframe\">\n",
       "  <thead>\n",
       "    <tr style=\"text-align: right;\">\n",
       "      <th></th>\n",
       "      <th>Rank</th>\n",
       "      <th>RMSE_train</th>\n",
       "      <th>RMSE_test</th>\n",
       "      <th>Coverage_train</th>\n",
       "      <th>Coverage_test</th>\n",
       "      <th>Running_time</th>\n",
       "    </tr>\n",
       "  </thead>\n",
       "  <tbody>\n",
       "    <tr>\n",
       "      <td>0</td>\n",
       "      <td>1.0</td>\n",
       "      <td>0.792381</td>\n",
       "      <td>0.866637</td>\n",
       "      <td>0.001105</td>\n",
       "      <td>0.000000</td>\n",
       "      <td>0.665180</td>\n",
       "    </tr>\n",
       "    <tr>\n",
       "      <td>1</td>\n",
       "      <td>2.0</td>\n",
       "      <td>0.750783</td>\n",
       "      <td>0.878760</td>\n",
       "      <td>0.004971</td>\n",
       "      <td>0.001165</td>\n",
       "      <td>0.748482</td>\n",
       "    </tr>\n",
       "    <tr>\n",
       "      <td>2</td>\n",
       "      <td>4.0</td>\n",
       "      <td>0.697051</td>\n",
       "      <td>0.880472</td>\n",
       "      <td>0.014360</td>\n",
       "      <td>0.006991</td>\n",
       "      <td>0.695007</td>\n",
       "    </tr>\n",
       "    <tr>\n",
       "      <td>3</td>\n",
       "      <td>8.0</td>\n",
       "      <td>0.617876</td>\n",
       "      <td>0.870833</td>\n",
       "      <td>0.044405</td>\n",
       "      <td>0.032625</td>\n",
       "      <td>0.696151</td>\n",
       "    </tr>\n",
       "    <tr>\n",
       "      <td>4</td>\n",
       "      <td>16.0</td>\n",
       "      <td>0.555843</td>\n",
       "      <td>0.869621</td>\n",
       "      <td>0.066939</td>\n",
       "      <td>0.071075</td>\n",
       "      <td>0.897247</td>\n",
       "    </tr>\n",
       "    <tr>\n",
       "      <td>5</td>\n",
       "      <td>32.0</td>\n",
       "      <td>0.510257</td>\n",
       "      <td>0.865636</td>\n",
       "      <td>0.096322</td>\n",
       "      <td>0.120303</td>\n",
       "      <td>1.230073</td>\n",
       "    </tr>\n",
       "    <tr>\n",
       "      <td>6</td>\n",
       "      <td>64.0</td>\n",
       "      <td>0.480793</td>\n",
       "      <td>0.867618</td>\n",
       "      <td>0.124268</td>\n",
       "      <td>0.163705</td>\n",
       "      <td>2.625629</td>\n",
       "    </tr>\n",
       "    <tr>\n",
       "      <td>7</td>\n",
       "      <td>128.0</td>\n",
       "      <td>0.459162</td>\n",
       "      <td>0.868413</td>\n",
       "      <td>0.142605</td>\n",
       "      <td>0.196330</td>\n",
       "      <td>8.569126</td>\n",
       "    </tr>\n",
       "    <tr>\n",
       "      <td>8</td>\n",
       "      <td>256.0</td>\n",
       "      <td>0.448716</td>\n",
       "      <td>0.867750</td>\n",
       "      <td>0.151331</td>\n",
       "      <td>0.210603</td>\n",
       "      <td>45.479612</td>\n",
       "    </tr>\n",
       "  </tbody>\n",
       "</table>\n",
       "</div>"
      ],
      "text/plain": [
       "    Rank  RMSE_train  RMSE_test  Coverage_train  Coverage_test  Running_time\n",
       "0    1.0    0.792381   0.866637        0.001105       0.000000      0.665180\n",
       "1    2.0    0.750783   0.878760        0.004971       0.001165      0.748482\n",
       "2    4.0    0.697051   0.880472        0.014360       0.006991      0.695007\n",
       "3    8.0    0.617876   0.870833        0.044405       0.032625      0.696151\n",
       "4   16.0    0.555843   0.869621        0.066939       0.071075      0.897247\n",
       "5   32.0    0.510257   0.865636        0.096322       0.120303      1.230073\n",
       "6   64.0    0.480793   0.867618        0.124268       0.163705      2.625629\n",
       "7  128.0    0.459162   0.868413        0.142605       0.196330      8.569126\n",
       "8  256.0    0.448716   0.867750        0.151331       0.210603     45.479612"
      ]
     },
     "metadata": {},
     "output_type": "display_data"
    },
    {
     "name": "stdout",
     "output_type": "stream",
     "text": [
      "\n",
      "\n",
      "CPU times: user 2.08 s, sys: 574 ms, total: 2.65 s\n",
      "Wall time: 1min 48s\n"
     ]
    }
   ],
=======
   "outputs": [],
>>>>>>> a7d543d53bbd98f7a068297b5062ddbcdd9a5726
   "source": [
    "%%time\n",
    "\n",
    "pow_two_max_rank = 8\n",
    "\n",
    "ranks = [2**i for i in range(pow_two_max_rank+1)]\n",
    "\n",
    "report_df = get_best_rank(ratings_spark_df, ranks=ranks)\n",
    "\n",
    "plot_performance_als(report_df)\n",
    "display(report_df)\n",
    "print('\\n')"
   ]
  },
  {
   "cell_type": "markdown",
   "metadata": {},
   "source": [
    "We observe the following:\n",
    "1. The training error keeps on decreasing with increased rank, but the test error shows no significant improvement indicating signs of overfitting\n",
    "2. The coverage of items improves with respect to rank\n",
    "3. The time to fit the model takes expontially higher time in correlation with rank\n",
    "\n",
    "Note: We use Catalog Coverage to take into account the number of unique movies that were recommended to atleast one user as a top choice amonsgt the set of all unique movies."
   ]
  },
  {
   "cell_type": "markdown",
   "metadata": {},
   "source": [
    "### 2.3 LightFM:\n",
    "\n",
    "We use LightFM model to find how it performs over over dataset"
   ]
  },
  {
   "cell_type": "code",
   "execution_count": null,
   "metadata": {
    "scrolled": false
   },
<<<<<<< HEAD
   "outputs": [
    {
     "name": "stdout",
     "output_type": "stream",
     "text": [
      "Performance of LightFm Model \n",
      "\n",
      "Precision \t Train: 0.43 \t Test: 0.15\n",
      "AUC \t\t Train: 0.92 \t Test: 0.87\n"
     ]
    },
    {
     "data": {
      "image/png": "iVBORw0KGgoAAAANSUhEUgAAA3sAAAJcCAYAAABAE73ZAAAABHNCSVQICAgIfAhkiAAAAAlwSFlzAAALEgAACxIB0t1+/AAAADh0RVh0U29mdHdhcmUAbWF0cGxvdGxpYiB2ZXJzaW9uMy4xLjEsIGh0dHA6Ly9tYXRwbG90bGliLm9yZy8QZhcZAAAgAElEQVR4nOzdeZhkZXn38e9PFjeQdURkG1Fc0CjgSHxFI8YdDWjiAkFBhQBGYtzFLWrUiBo1EiMGFcEFFHeiSFQU0UQUkB1EEVkGBhhAEMQgA/f7x3laiqa7p3umq6q7+vu5rrq6znO2+5w6fe66z1apKiRJkiRJo+Vuww5AkiRJkjT7LPYkSZIkaQRZ7EmSJEnSCLLYkyRJkqQRZLEnSZIkSSPIYk+SJEmSRpDF3gKQ5ONJ3jZL09oyyU1J1mjdJybZdzam3ab37SR7z9b0ZjDfdye5JsmVA5jX3km+3e/5SJKmz1w5rfkOLFdKmh0We/NckouT/CHJjUmuT/K/SQ5I8qfPtqoOqKp3TXNaT5lqmKq6tKrWqarbZiH2dyT53LjpP7Oqjlzdac8wji2A1wLbVtX9xvXbsyXsm9p6vr2n+6ZVmV9VHVlVz1zNmPdNUkn+eoL2EycYfmmSnXu6H5vk+CQ3JLkuyU+T7LU6MUnSXGWuXH2DzpVtug9NsmKawx7Q8uKuE7R/b4Lhr0zy+J7uxyX5TsuL1yY5Ocmeqxq7NFdY7I2Gv6qqdYGtgIOBNwKfmu2ZJFlztqc5R2wFXFtVV4/vUVWfbwl7HeCZwBVj3a3tTga4jvYGrmt/Z6Qlt+8BJwBbAxsBBwK7zGaAM4hnTm5Xw4prrq4PaQSYK1fPrOXKPlmdvLgz8B3geOABwMbAK4FnzWJ8M4lnTm5D5sV5qqp8zeMXcDHwlHFtOwK3A49o3UcA727vNwa+CVxPt1P8EV3R/9k2zh+Am4A3AIuBAvYBLgVO6mlbs03vROC9wM+AG4BvABu2fjsDSyeKF3gG8Efg1ja/M3umt297fzfgrcAlwNXAZ4D1Wr+xOPZusV0DvGWK9bReG395m95b2/Sf0pb59hbHEVNM4y7L09qXAq8Hzgb+2NreClwE3AicC+zaM/y+wInt/ZptOfYHLgR+Cxyyks986xbv89o6XDTRtCeIcef2/mTgIzPYxh7cPvsb2no+qqffn9EVjtcBVwJvaO33AA4BlgGXAx8C1m79ntK2gze3cT7d2ncFzqTbNn9M234nienxwKktpp8Bf97aXwScPG7Y1wNf7YnrQ8BlwFXAx4B7TBXXuGm9u3cbAR4EVE/3Pm0aN7bPf/dxn80v2mf8bWCLcdvA37dt4EK6bfMQuu3+BuAsuqPpQ9/n+PI1H1+YK+dCrtyiLfc1bf94QE+/nYDTgd/R7X/f29qvbvHf1F7bTzLPB3NHXrxlbN22fgcA35tgnCuBx7f3pwIfnMH29FC6PHVDW1ef6en3KOD7dPv6K4HXtvZ7Av9BlxeXAh8A1mr9nkG3738bXW76RGt/Lt3+/3q6bXDSPAA8Efh5i+lk4DGt/SXAj8cN+ybgmJ64/o0uL14J/Dtw96niGjetg4FPjls3K3q6/44758Xn9/TbH7iA7n/sW8Bmrf0e7XN/OfBruty5BvDRtr5voPu+8JBh71vmw2voAfhazQ9wggTW2i8FXt7eH8EdCey9wMeBtdrrCUAmmhZ3JInPAPduO4Sxtt4EdjnwiDbMV4DPtX47M0kCa+/fMTZsT/8TuSOBvaztZLYG1gG+Cnx2XGyfaHE9im4H/7BJ1tNn6JLMum3cXwL7TBbnJNOYcDi6nfZpwObAPVvbC4BN6ZLk39IlqU1av4mKvW/QJdnFbad3l8+0Z37vBP63vT8feGVPvymLvbb8twNPmME29iW6I+B3o9sB79Ta16Pb+f8jcHfgPsCOrd+/AP8LLALuC/wUeHvr9xRgRRtm7fb5PaZN6zF0O/SX0e3g154gno3pdvR7tPX3IuBaYIO2ndwEbN0z/OnA89r7jwJfa8PeBzgOeNdkcU0w70mLvTa9G4BtWvemtMRM9wXkAuAhLeZ3AD8atw0c3+K6J93R5J+1dXw3YFvgfsPe3/jyNV9fmCuHmivp9utn0+WStemKs0uBJ7b+p9OKgDbvsQN4dyocppjne4CT2vtfAn/f02/KYg9Yv62j/zeD7elrwOuAtPU6lhc3oCtGDuSOvDhWdL2frmDbGNgEOIVWeNMVVSuAf+aOvPhYusLw0W397deWbc0J4rkvXaH8Arqc8pIWx3othpuBLXuGPxt4Tnv/ceDLbT2sB/w3d+Tru8Q1wbwnLfba+rgeeGDr3mxs2wN2p/sO82C6/7F3Az9o/caKvW+1uO4J7Ab8pC3P3YCHA/cd9r5lPry8jHN0XQFsOEH7rXRfQreqqlur6kfV/rOm8I6q+n1V/WGS/p+tqnOq6vd0R39eMHZT+mraE/hQVV1UVTfRHYnafdzp/HdW1R+q6ky6ozyPGj+RFssLgTdV1Y1VdTHwQeDFsxDjmI9U1dKxdVRVx1TVsqq6vaqOokvcS6YY/71VdUOL7URgu4kGSpIW91Gt6ShmdsnKhnTJadkMxrmVLulvWlX/V1X/09p3BS6rqo9U1S1V9buq+lnrtyfddrO8ukt+/pk7r+8Vrf8f2zrbD/hYVZ1SVbdV1eFtuMdMEM9fAedW1dFVtaKqPkd3tPBZbTv5Jl0SIclD6b4AfbPdm7Mv8Kqq+m1V/Y7uC93uU8Q1UwU8Isk92ud/XmvfH/iXqrqgqlbQJbUdk2zWM+6/tLj+QLfO70OXNKmq86rKByJIs89c2fQ5Vz6e7iqK97X96y+BT3PH/vdW4MFJNmrz/ul0J9z27b158Whmlhc3an9XJS/er63Xsbz4HODCqvpoT148pfXbk66IuqaqrqLLA73r9ha6g49j+Wd/4KNVdVrLi4fRFZCPniCe3YAz2nePFVV1BN1B3me2XHccd+TFR9AdnD6ubSMvA/6xqq6vqhvoirfevDg+rlUxlhcvr6rzW9v+dAdXfllVt9IdyH58kk16xntPi2t8XqyqOrcmuKRYd2WxN7o2oztDNN4H6I4AfifJRUkOmsa0LptB/0vojtBsPK0op3b/Nr3eaa9Jd0RsTO8X4JvpjmqOtzHdEanx09psgmFX1Z3WUZKXJDmzPQjgerqd01TrZDrLAfAXdJfCHNO6jwJ2aDtv6IqVtSYYby26HeV1dAXJplPEMt5r2/inJjm75wlwW9BtSxPZlKnX91VV9cee7q2AN46tr7bONmXiz2j8djF++kfRnfWDLrl+tar+D7gfXaLs/Vy+SXdEdLK4pq0l1D2AVwBXJvlmkgf3LN9/9Mz3GrozrJv3TOKynml9h+5o66HAVe0pgeuuSlySpmSuvEM/c+VWwOJx+/jX0O2XoSvOHgn8sj0w7OkzmPaT2nS+1Lo/T3cw7aGte2V58drWPZO8+GrgXsDpSc5K8qLWvgXdVSl30g7U3o+p1+2VregZsxXw5nHrbBGzkxe/3HLd/enWw7k98/g6d86L4+Oatqr6bZvfK+ny4rFJHtSzfB/vme9yus9qwrxId/vDp4D/pMuLH0syqPtB5zWLvRGU5DF0/+A/Ht+vHTF7bVVtTXeG5DVJnjzWe5JJruxo5hY977ek23leA/yebmc4FtcadDuq6U73CrqdQe+0V9Bd7jcT17SYxk/r8hlOZyp/WpYkW9N9SX85sFFVrU93vXlmYT570/3fnpXu0df/0+Y99iTNS4GtWmIZi2cduiR+SVXdSHd54N9Md4btDNW+VbUpXSFzWJIH0O2EHzjJaMuYen2P/+wvozvyvH7P615VdQx3NX67GD/944HNkvwZXXIbO9p7Fd29Lw/pmcd6VbXeFHGNd6dtmju+qHQjV327qp5C96XhQrqkNLZ8+4xbvnuOO3pd46b1b1W1A91lX9vSfTGSNEvMlXfRz1x5GfCLcfvAdavquQBVdX5VvZCuyDgE+GqStVn5ssMdefHclhdPYoK82DtCkvvQndG9pKqup7sVYyZ58fKqehndvv6VwOFJtmSSvNjOCl/JzPPiP02QF786QUgry4vfAh6Q5GF0Z+3G8uIyum3lgePy4kY901ndvPitqnoyXWF5Kd33o7Hle8kEefG0ieZdnQ9V1fZ0BwYeRXcbiVbCYm+EJLlPkmcDX6C7vv/sCYZ5dpIHtWLgd8Bt7QVdYth6FWb9oiTbJrkX3eV6X67ucdO/BO6R5FlJ1qK70fvuPeNdRXekb7Lt8Gjg1Uke0AqWfwG+WN1lcNPWYjkGeE+SdZNsRffF+XNTj7nK1qHbQS2nO6C3L+1yvNXR1u/z6B4CsF3P69V0n8EadNez3w68Psnd23p7H/CTqlraJvV6YN8kr0myYZv29kmOYgJJXtBzueH1bdluA44FtkxyYJK12/a3YxvuaOCfkmycZBHdJUtTre/DgFckeUw66yT5qyT3nmDYbwIPT/LCJGsm+Vu6e+eOA2hHK79C9yCWdehulB/bDj4J/FuSRW0+myd52hRxjXcG8MQkWyRZH/jT0f4km7aY70VXVP6eO/63Pg68pSVakqyf5HmTzSTJju21ZpvOH3umJWk1mCsn1udc+WOAJK9Kco+2735kkh1a+17pLuG8je7e56LLZVcDa7RC6i7a8v413T1qvXnxdcCL2zr7MbBmy3l3T3eVxPuBH9Ydl8e/Djigxbdhyw+PzrifvOiZ7wuT3L8Vcde35hV0Z8UelOTlPXlx7HaEo4G3J9koyX2Bt7DyvPgPSZb05MVd2/Yz3rHA9kme19btXnTF3vEAVXUL3X2Gh9Cdvf1ha78VOBz4SMvXafntqVPENd4ZwJOSbJZkA7r7MsfW02Ztu74X3eWgN3HnvPjWJA9pw26QZNKCO91PRi0xL86cxd5o+K8kN9IdJXkL3Zfcl04y7DZ0T0+8ia4w+FhVndj6vZfuH+/6JK+bwfw/S3dj+5V0N9W+EqBd+/33dF+wL6f751zaM97YJRfXJvn5BNM9vE37JOA3wP8B/zCDuHr9Q5v/RXQ7/qPa9GddVZ1Ft0P9Gd1Rs4fSPaBkdf013dOsPldVV469uOPG+6e269p3oXvYyOV0l5MsorsPYyy+H7X+TwcuTnId3ZG24yaZ758DpyT5Pd2N/6+o7jekbgCeSnc09Gq6LyxPbOO8k+6+kLPpniT2U7rta0LtDNfLWxy/bdN60STDLqe7X/CNdJffvBp4dlX1Xop1VFvGL9adf+fqtXSXtow9Ee87dP8T03U8XcI8u03j2J5+a9AV0staXI+ju0mfqvoS3f/ll5L8jm6dTHWZ0vp0l6tcT3e/5zLgwzOIU9JdmStXri+5shUVu9DtFy+hOxh6KHdcTvps4IL2+bwXeEG79+y3dIXZaW19j7+f/Xl0l+EePS4vHkZ3f9dfVtXNbd670J0B+xXdPvZve+I7EXhaG+ZiurOcH6U7IzaR/9diuonu89mvqq5o8T6V7uzZ1XQP5hr7Lb9/As6je0L3GXRX5rx/inX2P3TbyH/S5YJftpjvcqatunsAd6Xbrq+lyz3Pbmctx4zlxS9U1e097a9q62XsCdfH0x1Ana5v0R2EPY/uKaBf7+m3Bt09pFe2uB5D2zar6mi6dfzVlhfPoFt3k1mf7v/nerrt8xK671paibEnS0mSJEmSRohn9iRJkiRpBFnsSZIkSdIIstiTJEmSpBFksSdJkiRJI2jNYQewOjbeeONavHjxsMOQJA3Aaaeddk1VLVr5kAJzpCQtFFPlx3ld7C1evJhTTz112GFIkgYgySXDjmE+MUdK0sIwVX70Mk5JkiRJGkEWe5IkSZI0giz2JEmSJGkEWexJkiRJ0giy2JMkSZKkEWSxJ0mSJEkjyGJPkiRJkkaQxZ4kSZIkjSCLPUmSBizJFkl+kOT8JOcm+cfW/o4klyc5o7126RnnTUkuTHJBkqcPL3pJ0nyx5rADkCRpAVoBvLaqfp5kXeC0JN9t/T5cVf/aO3CSbYHdgYcD9we+l+TBVXXbQKOWJM0rFnuSpEktPuhbqz2Niw9+1ixEMlqqahmwrL2/Mcn5wGZTjLIb8IWqugX4TZILgR2Bn/Q9WEnSncxGbhzT7xzpZZySJA1RksXA9sBPW9OBSc5KcniSDVrbZsBlPaMtZYLiMMl+SU5Ncury5cv7GLUkaT6w2JMkaUiSrAN8BXhVVf0OOBR4ILAd3Zm/D44NOsHodZeGqsOqaklVLVm0aFGfopYkzRd9K/amuPl8wyTfTfKr9neD1p4kh7Sbz89KskO/YpMkadiSrEVX6H2+qr4KUFVXVdVtVXU78Am6SzWhO5O3Rc/omwNXDDJeSdL8088ze2M3nz8MeCzwinaD+UHACVW1DXBC6wZ4JrBNe+1Hd3RTkqSRkyTAp4Dzq+pDPe2b9gz2XOCc9v5YYPckd0/yALpc+bNBxStJmp/69oCWKW4+3w3YuQ12JHAi8MbW/pmqKuDkJOsn2bRNR5KkUbIT8GLg7CRntLY3A3sk2Y7uEs2Lgf0BqurcJMcA59EdTH2FT+KUJK3MQJ7GOe7m803GCriqWpbkvm2wyW4+v1Oxl2Q/ujN/bLnlln2NW5KkfqiqHzPxfXjHTTHOe4D39C0oSdLI6fsDWia4+XzSQSdo8+ZzSZIkSVoFfS32Jrr5HLhq7J6E9vfq1u7N55IkSZI0S/r5NM4Jbz6nu8l87/Z+b+AbPe17tadyPha4wfv1JEmSJGnV9POevcluPj8YOCbJPsClwPNbv+OAXYALgZuBl/YxNkmSJEkaaf18GudkN58DPHmC4Qt4Rb/ikSRJkqSFpO8PaJEkSZIkDZ7FniRJkiSNIIs9SZIkSRpBFnuSJEmSNIIs9iRJkiRpBFnsSZIkSdIIstiTJEmSpBFksSdJkiRJI8hiT5IkSZJGkMWeJEmSJI0giz1JkiRJGkEWe5IkSZI0giz2JEmSJGkEWexJkiRJ0giy2JMkSZKkEWSxJ0mSJEkjyGJPkiRJkkaQxZ4kSZIkjSCLPUmSJEkaQX0r9pIcnuTqJOf0tH0xyRntdXGSM1r74iR/6On38X7FJUmSJEkLwZp9nPYRwEeBz4w1VNULx94n+SBwQ8/wv66q7foYjyRJkiQtGH0r9qrqpCSLJ+qXJMALgL/s1/wlSZIkaSEb1j17TwCuqqpf9bQ9IMnpSX6Y5AmTjZhkvySnJjl1+fLl/Y9UkiRJkuahYRV7ewBH93QvA7asqu2B1wBHJbnPRCNW1WFVtaSqlixatGgAoUqSJEnS/DPwYi/JmsBfA18ca6uqW6rq2vb+NODXwIMHHZskSZIkjYphnNl7CvCLqlo61pBkUZI12vutgW2Ai4YQmyRJkiSNhH7+9MLRwE+AhyRZmmSf1mt37nwJJ8BfAGclORP4MnBAVV3Xr9gkSZIkadT182mce0zS/pIJ2r4CfKVfsUiSJEnSQjOsB7RIkiRJkvrIYk+SJEmSRpDFniRJkiSNIIs9SZIkSRpBFnuSJEmSNIIs9iRJGrAkWyT5QZLzk5yb5B9b+4ZJvpvkV+3vBq09SQ5JcmGSs5LsMNwlkCTNBxZ7kiQN3grgtVX1MOCxwCuSbAscBJxQVdsAJ7RugGcC27TXfsChgw9ZkjTfWOxJkjRgVbWsqn7e3t8InA9sBuwGHNkGOxJ4Tnu/G/CZ6pwMrJ9k0wGHLUmaZyz2JEkaoiSLge2BnwKbVNUy6ApC4L5tsM2Ay3pGW9raxk9rvySnJjl1+fLl/QxbkjQPWOxJkjQkSdYBvgK8qqp+N9WgE7TVXRqqDquqJVW1ZNGiRbMVpiRpnrLYkyRpCJKsRVfofb6qvtqarxq7PLP9vbq1LwW26Bl9c+CKQcUqSZqfLPYkSRqwJAE+BZxfVR/q6XUssHd7vzfwjZ72vdpTOR8L3DB2uackSZNZc9gBSJK0AO0EvBg4O8kZre3NwMHAMUn2AS4Fnt/6HQfsAlwI3Ay8dLDhSpLmI4s9SZIGrKp+zMT34QE8eYLhC3hFX4OSJI0cL+OUJEmSpBFksSdJkiRJI8hiT5IkSZJGkMWeJEmSJI0giz1JkiRJGkEWe5IkSZI0gvpW7CU5PMnVSc7paXtHksuTnNFeu/T0e1OSC5NckOTp/YpLkiRJkhaCfp7ZOwJ4xgTtH66q7drrOIAk2wK7Aw9v43wsyRp9jE2SJEmSRlrfir2qOgm4bpqD7wZ8oapuqarfABcCO/YrNkmSJEkadcO4Z+/AJGe1yzw3aG2bAZf1DLO0td1Fkv2SnJrk1OXLl/c7VkmSJEmalwZd7B0KPBDYDlgGfLC1Z4Jha6IJVNVhVbWkqpYsWrSoP1FKkiRJ0jw30GKvqq6qqtuq6nbgE9xxqeZSYIueQTcHrhhkbJIkSZI0SgZa7CXZtKfzucDYkzqPBXZPcvckDwC2AX42yNgkSZIkaZSs2a8JJzka2BnYOMlS4O3Azkm2o7tE82Jgf4CqOjfJMcB5wArgFVV1W79ikyRJkqRR17dir6r2mKD5U1MM/x7gPf2KR5IkSZIWkmE8jVOSJEmS1GcWe5IkSZI0giz2JEmSJGkEWexJkiRJ0giy2JMkSZKkEWSxJ0mSJEkjyGJPkiRJkkaQxZ4kSZIkjSCLPUmSJEkaQRZ7kiRJkjSCLPYkSZIkaQRZ7EmSJEnSCLLYkyRJkqQRZLEnSZIkSSPIYk+SJEmSRpDFniRJkiSNIIs9SZIkSRpBFnuSJEmSNIIs9iRJkiRpBFnsSZIkSdII6luxl+TwJFcnOaen7QNJfpHkrCRfS7J+a1+c5A9Jzmivj/crLkmSJElaCPp5Zu8I4Bnj2r4LPKKqHgn8EnhTT79fV9V27XVAH+OSJEmSpJHXt2Kvqk4CrhvX9p2qWtE6TwY279f8JUmSJGkhG+Y9ey8Dvt3T/YAkpyf5YZInTDZSkv2SnJrk1OXLl/c/SkmSZtkktzq8I8nlPbc07NLT701JLkxyQZKnDydqSdJ8M5RiL8lbgBXA51vTMmDLqtoeeA1wVJL7TDRuVR1WVUuqasmiRYsGE7AkSbPrCO56qwPAh3tuaTgOIMm2wO7Aw9s4H0uyxsAilSTNWwMv9pLsDTwb2LOqCqCqbqmqa9v704BfAw8edGySJA3CRLc6TGE34AstV/4GuBDYsW/BSZJGxkCLvSTPAN4I7FpVN/e0Lxo7Splka2Ab4KJBxiZJ0hxwYHti9eFJNmhtmwGX9QyztLXdhbc6SJJ69fOnF44GfgI8JMnSJPsAHwXWBb477icW/gI4K8mZwJeBA6pqukc8JUkaBYcCDwS2o7u94YOtPRMMWxNNwFsdJEm91uzXhKtqjwmaPzXJsF8BvtKvWCRJmuuq6qqx90k+AXyzdS4FtugZdHPgigGGJkmap4b5NE5JktQk2bSn87nA2JM6jwV2T3L3JA+gu9XhZ4OOT5I0/0yr2Euy03TaJElaSFY1P05yq8P7k5yd5CzgScCrAarqXOAY4DzgeOAVVXXbLC6GJGlETfcyzn8HdphGmyRJC8kq5ceZ3OrQhn8P8J4ZRydJWtCmLPaS/D/gccCiJK/p6XUfwN/4kSQtSOZHSdJ8sLIze2sD67Th1u1p/x3wvH4FJUnSHGd+lCTNeVMWe1X1Q+CHSY6oqksGFJMkSXOa+VGSNB9M9569uyc5DFjcO05V/WU/gpIkaZ4wP0qS5qzpFntfAj4OfBLwCWCSJHXMj5KkOWu6xd6Kqjq0r5FIkjT/mB8lSXPWdH9U/b+S/H2STZNsOPbqa2SSJM195kdJ0pw13TN7e7e/r+9pK2Dr2Q1HkqR5xfwoSZqzplXsVdUD+h2IJEnzjflRkjSXTavYS7LXRO1V9ZnZDUeSpPnD/ChJmsumexnnY3re3wN4MvBzwGQmSVrIzI+SpDlrupdx/kNvd5L1gM/2JSJJkuYJ86MkaS6b7tM4x7sZ2GY2A5EkaQSYHyVJc8Z079n7L7qniwGsATwMOKZfQUmSNB+YHyVJc9l079n71573K4BLqmppH+KRJGk+MT9KkuasaV3GWVU/BH4BrAtsAPyxn0FJkjQfmB8lSXPZtIq9JC8AfgY8H3gB8NMkz5vGeIcnuTrJOT1tGyb5bpJftb8btPYkOSTJhUnOSrLDqi2SJEmDsar5UZKkQZjuA1reAjymqvauqr2AHYG3TWO8I4BnjGs7CDihqrYBTmjdAM+ku6l9G2A/4NBpxiZJ0rCsan6UJKnvplvs3a2qru7pvnY641bVScB145p3A45s748EntPT/pnqnAysn2TTacYnSdIwrFJ+lCRpEKb7gJbjk/w3cHTrfiFw3CrOc5OqWgZQVcuS3Le1bwZc1jPc0ta2rHfkJPvRnfljyy23XMUQJEmaFbOZHyVJmlVTFntJHkRXnL0+yV8DjwcC/AT4/CzHkgna6i4NVYcBhwEsWbLkLv0lSeq3AedHSZJWycouNfk34EaAqvpqVb2mql5Nd9Ty31ZxnleNXZ7Z/o5d/rIU2KJnuM2BK1ZxHpIk9VM/8qMkSbNqZcXe4qo6a3xjVZ0KLF7FeR4L7N3e7w18o6d9r/ZUzscCN4xd7ilJ0hzTj/woSdKsWtk9e/eYot89VzbxJEcDOwMbJ1kKvB04GDgmyT7ApXSPq4buaOguwIXAzcBLVzZ9SZKGZLXyoyRJg7CyYu+UJH9XVZ/obWyF2mkrm3hV7TFJrydPMGwBr1jZNCVJmgNWKz9KkjQIKyv2XgV8Lcme3JG8lgBrA8/tZ2CSJM1h5kdJ0pw3ZbFXVVcBj0vyJOARrflbVfX9vkcmSdIcZX6UJM0H0/qdvar6AfCDPsciSdK8Yn6UJM1lK3sapyRJkiRpHrLYkyRJkqQRZLEnSZIkSSPIYk+SJEmSRpDFniRJkiSNIIs9SZIkSRpBFnuSJEmSNIIs9iRJkiRpBFnsSZIkSdIIstiTJEmSpBFksSdJ0oAlOTzJ1UnO6WnbMMl3k/yq/d2gtSfJIUkuTHJWkh2GF7kkaT6x2JMkafCOAJ4xru0g4ISq2gY4oXUDPBPYpr32Aw4dUIySpHnOYk+SpAGrqpOA68Y17wYc2d4fCTynp/0z1TkZWD/JpoOJVJI0nwIOpRwAACAASURBVFnsSZI0N2xSVcsA2t/7tvbNgMt6hlva2u4iyX5JTk1y6vLly/sarCRp7rPYkyRpbssEbTXRgFV1WFUtqaolixYt6nNYkqS5zmJPkqS54aqxyzPb36tb+1Jgi57hNgeuGHBskqR5aM1hByBJ6o/FB31r2CFoZo4F9gYObn+/0dN+YJIvAH8O3DB2uackSVMZeLGX5CHAF3uatgb+CVgf+Dtg7CaDN1fVcQMOT5KkvktyNLAzsHGSpcDb6Yq8Y5LsA1wKPL8NfhywC3AhcDPw0oEHLEmalwZe7FXVBcB2AEnWAC4HvkaXvD5cVf866JgkSRqkqtpjkl5PnmDYAl7R34gkSaNo2PfsPRn4dVVdMuQ4JEmSJGmkDLvY2x04uqf7wCRnJTk8yQYTjeBjpSVJkiRp5Yb2gJYkawO7Am9qTYcC76J7nPS7gA8CLxs/XlUdBhwGsGTJkgkfPS1J850PV5EkSatrmGf2ngn8vKquAqiqq6rqtqq6HfgEsOMQY5MkSZKkeW2Yxd4e9FzCOfbbQs1zgXMGHpEkSZIkjYihXMaZ5F7AU4H9e5rfn2Q7uss4Lx7XT5IkSZI0A0Mp9qrqZmCjcW0vHkYskiRJkjSKhv00TkmSJElSH1jsSZIkSdIIstiTJEmSpBFksSdJkiRJI8hiT5IkSZJGkMWeJEmSJI0giz1JkiRJGkEWe5IkSZI0gobyo+qSNKoWH/StYYcgSZIEeGZPkiRJkkaSxZ4kSZIkjSCLPUmSJEkaQRZ7kiRJkjSCLPYkSZIkaQRZ7EmSJEnSCPKnFyRJkiStttn8+aGLD37WrE1rIfPMniRJkiSNIIs9SZIkSRpBFnuSJEmSNIK8Z0+SJEnSSJvN+wnnk6EVe0kuBm4EbgNWVNWSJBsCXwQWAxcDL6iq3w4rRkmSJEmar4Z9GeeTqmq7qlrSug8CTqiqbYATWrckSZIkaYbm2mWcuwE7t/dHAicCbxxWMJIWloV6iYckSRpNwzyzV8B3kpyWZL/WtklVLQNof+87fqQk+yU5Ncmpy5cvH2C4kiRJkjR/DPPM3k5VdUWS+wLfTfKL6YxUVYcBhwEsWbKk+hmgJEmSJM1XQzuzV1VXtL9XA18DdgSuSrIpQPt79bDikyRJkqT5bCjFXpJ7J1l37D3wNOAc4Fhg7zbY3sA3hhGfJEmSJM13w7qMcxPga0nGYjiqqo5PcgpwTJJ9gEuB5w8pPkmSJEma14ZS7FXVRcCjJmi/Fnjy4COSJEmSpNEy1356QZIkSdIC588hzQ6LPUmS5pAkFwM3ArcBK6pqSZINgS8Ci4GLgRdU1W+HFaMkaX6w2JM0EjwCqBHzpKq6pqf7IOCEqjo4yUGt+43DCU2SNF8M80fVJUnS9OwGHNneHwk8Z4ixSJLmCc/sSZI0txTwnSQF/GdVHQZsUlXLAKpqWZL7TjRikv2A/QC23HLLQcUraR7zypjRZrEnSdLcslNVXdEKuu8m+cV0R2yF4WEAS5YsqX4FKEmaH7yMU5KkOaSqrmh/rwa+BuwIXJVkU4D29+rhRShJmi8s9iRJmiOS3DvJumPvgacB5wDHAnu3wfYGvjGcCCVJ84mXcUqSNHdsAnwtCXQ5+qiqOj7JKcAxSfYBLgWeP8QYJUnzhMWeJElzRFVdBDxqgvZrgScPPiJJ0nzmZZySJEmSNIIs9iRJkiRpBFnsSZIkSdIIstiTJEmSpBFksSdJkiRJI8hiT5IkSZJGkMWeJEmSJI0gf2dP0lAtPuhbww5BkiRpJHlmT5IkSZJGkMWeJEmSJI2ggRd7SbZI8oMk5yc5N8k/tvZ3JLk8yRnttcugY5MkSZKkUTGMe/ZWAK+tqp8nWRc4Lcl3W78PV9W/DiEmSZIkSRopAy/2qmoZsKy9vzHJ+cBmg45DkiRJkkbZUJ/GmWQxsD3wU2An4MAkewGn0p39++0E4+wH7Aew5ZZbDixWSXflkzQlSRo886+ma2gPaEmyDvAV4FVV9TvgUOCBwHZ0Z/4+ONF4VXVYVS2pqiWLFi0aWLySJEmSNJ8MpdhLshZdoff5qvoqQFVdVVW3VdXtwCeAHYcRmyRJkiSNgoFfxpkkwKeA86vqQz3tm7b7+QCeC5wz6NgkSZKkfvDSSw3DMO7Z2wl4MXB2kjNa25uBPZJsBxRwMbD/EGKTJEmSpJEwjKdx/hjIBL2OG3QskiRJkjSqhvaAFkmSJElS/1jsSZIkSdIIGurv7EmSJElzkQ9U0Siw2JMWKJOYJEnSaPMyTkmSJEkaQRZ7kiRJkjSCLPYkSZIkaQRZ7EmSJEnSCLLYkyRJkqQRZLEnSZIkSSPIYk+SJEmSRpC/sydJkqShmc3ffb344GfN2rSkUWCxJ0mSpJEwm4WjNAq8jFOSJEmSRpBn9qR5yCOXkiRJWhnP7EmSJEnSCLLYkyRJkqQRZLEnSZIkSSPIYk+SJEmSRtCce0BLkmcAHwHWAD5ZVQcPOSRp1vhgFUmryvyo1THb+cffs5PmhzlV7CVZA/gP4KnAUuCUJMdW1XnDjWz+mK2d+WzsxOdSYWNSkjSfmR/nj7mU+/ppoSynNN/NqWIP2BG4sKouAkjyBWA3oK/JbDZ2WBYTc5tJSdI8N2/zY7/MZt6dy8spSatjrhV7mwGX9XQvBf68d4Ak+wH7tc6bklwwoNimlPf1fRYbA9f0fS7NAJZnOga6zHOEy7wwLKhlbvuT2VjmrVY7mPlrpfkR5m6O7IdZ3K4WEtfXzLnOZsb1NUN5X3/z41wr9jJBW92po+ow4LDBhDN3JDm1qpYMO45BcpkXBpd5YViIyzzLVpofYeHlSLermXF9zZzrbGZcXzPX73U2157GuRTYoqd7c+CKIcUiSdJcYX6UJM3YXCv2TgG2SfKAJGsDuwPHDjkmSZKGzfwoSZqxOXUZZ1WtSHIg8N90j5Y+vKrOHXJYc8WCuSynh8u8MLjMC8NCXOZZY36clNvVzLi+Zs51NjOur5nr6zpL1V0u+ZckSZIkzXNz7TJOSZIkSdIssNiTJEmSpBFksTeHJHlGkguSXJjkoAn6vyTJ8iRntNe+w4hzNq1smdswL0hyXpJzkxw16Bhn2zQ+5w/3fMa/THL9MOKcTdNY5i2T/CDJ6UnOSrLLMOKcTdNY5q2SnNCW98Qkmw8jztmU5PAkVyc5Z5L+SXJIWydnJdlh0DFqfprG/9NrWp44q/1fLeTfZJxWbm3DPS9JJVnwj8pfiN9HVsdCzOurY6j5sap8zYEX3Q33vwa2BtYGzgS2HTfMS4CPDjvWAS/zNsDpwAat+77Djrvfyzxu+H+gexDD0GPv8+d8GPDy9n5b4OJhxz2AZf4SsHd7/5fAZ4cd9yws918AOwDnTNJ/F+DbdL8Z91jgp8OO2dfcf03z/+lJwL3a+5cDXxx23HN5fbXh1gVOAk4Glgw77rm+zkbt+8gA1tdI5fVZWGdDy4+e2Zs7dgQurKqLquqPwBeA3YYcU79NZ5n/DviPqvotQFVdPeAYZ9tMP+c9gKMHEln/TGeZC7hPe78e8//3w6azzNsCJ7T3P5ig/7xTVScB100xyG7AZ6pzMrB+kk0HE53msZX+P1XVD6rq5tZ5Mt3vEC5U080z7wLeD/zfIIOboxbi95HVsRDz+moZZn602Js7NgMu6+le2trG+5t2evfLSbaYoP98Mp1lfjDw4CT/k+TkJM8YWHT9Md3PmXYZ0gOA7w8grn6azjK/A3hRkqXAcXRnNOez6SzzmcDftPfPBdZNstEAYhumaW//Uo+Zbjf70B0hX6hWur6SbA9sUVXfHGRgc9hC/D6yOhZiXu+3vuVHi725IxO0jf9djP8CFlfVI4HvAUf2Par+ms4yr0l36cTOdGe5Pplk/T7H1U/TWeYxuwNfrqrb+hjPIExnmfcAjqiqzekuZfhskvm8f5rOMr8OeGKS04EnApcDK/od2JDNZPuXxkx7u0nyImAJ8IG+RjS3Tbm+2r71w8BrBxbR3LcQv4+sjoWY1/utb/nRlT53LAV6z9RtzrhT3lV1bVXd0jo/ATx6QLH1y0qXuQ3zjaq6tap+A1xAt7Odr6azzGN2Z/5fwgnTW+Z9gGMAquonwD2AjQcSXX9M5//5iqr666raHnhLa7thcCEOxUy2f2nMtLabJE+h+1/atSdXLkQrW1/rAo8ATkxyMd39Qccu8Ie0LMTvI6tjIeb1futbfrTYmztOAbZJ8oAka9N90T+2d4Bx1+7uCpw/wPj6YaXLDHyd7sZ7kmxMdxnFRQONcnZNZ5lJ8hBgA+AnA46vH6azzJcCTwZI8jC6pLB8oFHOrun8P2/cc5TzTcDhA45xGI4F9mpPHXsscENVLRt2UJrzpvP/tD3wn3SF3kK+lwpWsr6q6oaq2riqFlfVYrp7HHetqlOHE+6csBC/j6yOhZjX+61v+XHN2ZiIVl9VrUhyIPDfdE85Oryqzk3yz8CpVXUs8Moku9Jd6nUd3dM5561pLvN/A09Lch5wG/D6qrp2eFGvnmkuM3SXP3yh2iOa5rNpLvNrgU8keTXdZQsvmc/LPs1l3hl4b5KieyLeK4YW8CxJcjTdcm3c7tN4O7AWQFV9nO6+jV2AC4GbgZcOJ1LNJ9P8f/oAsA7wpSQAl1bVrkMLeohmkGfULMTvI6tjIeb11TXM/JgFvN4lSZIkaWR5GackSZIkjSCLPUmSJEkaQRZ7kiRJkjSCLPYkSZIkaQRZ7EmSJEnSCLLYk2ZZkucmqSQP7WnbOck3xw13RJLntfdrJTk4ya+SnJPkZ0meOcG0n53k9CRnJjkvyf79XyJJkmaHOVIaLH9nT5p9ewA/pvuR0XdMc5x3AZsCj6iqW5JsAjyxd4AkawGHATtW1dIkdwcWr06g6X6QKlV1++pMR5KkaTJHSgPkmT1pFiVZB9gJ2IcukU1nnHsBfwf8Q1XdAlBVV1XVMeMGXZfuAM21bZhbquqCNo1NknytHc08M8njWvtr2lHQc5K8qrUtTnJ+ko8BPwe2SPK0JD9J8vMkX2rLIUnSrDFHSoNnsSfNrucAx1fVL4HrkuwwjXEeBFxaVb+baqCqug44FrgkydFJ9kwy9j98CPDDqnoUsANwbpJHAy8F/hx4LPB3SbZvwz8E+ExVbQ/8Hngr8JSq2gE4FXjNDJZZkqTpMEdKA2axJ82uPYAvtPdfaN0ANcnwk7VPPHDVvsCTgZ8BrwMOb73+Eji0DXNbVd0APB74WlX9vqpuAr4KPKENf0lVndzePxbYFvifJGcAewNbzSQuSZKmwRwpDZj37EmzJMlGdAnlEUkKWAOoJG+gu6xkg3GjbAhcA1wIbJlk3aq6cWXzqaqzgbOTfBb4DfCSyUKaYjK/Hzfcd6tqj8kGliRpdZgjpeHwzJ40e55Hd9nHVlW1uKq2oEs0jwd+Bdw/ycMAkmwFPAo4o6puBj4FHJJk7dZ/0yQv6p14knWS7NzTtB1wSXt/AvDyNtwaSe4DnAQ8J8m9ktwbeC7wowniPhnYKcmD2vj3SvLg1V0ZkiT1MEdKQ2CxJ82ePYCvjWv7CvC37abyFwGfbpeBfBnYt11KAt39AMuB85KcA3y9dfcK8IYkF7RpvJM7jlj+I/CkJGcDpwEPr6qfA0fQXc7yU+CTVXX6+KCranmbztFJzqJLbA8dP5wkSavBHCkNQapmdDm0JEmSJGke8MyeJEmSJI0giz1JkiRJGkEWe5IkSZI0giz2JEmSJGkEWexJkiRJ0giy2JvDknw8ydtmaVpbJrkpyRqt+8Qk+87GtNv0vp1k79ma3gzm++4k1yS5cgDz2jvJt/s9n9WR5G1JPj6N4b6TZM9BxDQs7XeYfpzkxiTvG8D8lo79xlPbLo/o9zwlmSunOd+B5cq5Jsk7k3x0GsN9P8kLBxHTsCTZLMn/trz4ngHM78okj2/vD07yyX7PU3dlsTckSS5O8of2D3d9++c7IMmfPpOqOqCq3jXNaT1lqmGq6tKqWqeqbpuF2N+R5HPjpv/Mqjpydac9wzi2AF4LbFtV9xvXb8+WsG9q6/n2nu6bVmV+VXVkVT1zFWN9d5Jb2/yvT/I/Sf58Vaa1khjfVVUHTGO4p1XV52d7/mOSPCzJp9u2eV2Ss5K8Pck6KxlvjyQ/SXJzku9N0H+HJD9v/U9J8sgpJncAcAVwn6p642oukqQhMFeuvkHnyjbdhyZZsZJhDh6XF3+c5DGrOs/JVNXbq+rAaQz3l1X1xdme/5gkD09yZJJLWl48sx2gvfdKxtuz5cU/JDl+gv6PSXJGy4s/S/KIKSb398DFVbVuVb1ldZdJ84PF3nD9VVWtC2wFHAy8EfjUbM8kyZqzPc05Yivg2qq6enyPqvp8S9jrAM8Erhjrbm13MqB19Pk27/vS/YDrVyYaaL5/XkmeD3yL7odq/x+wEbArsAbw0ySbTzH6tcCHgA9MMN27A98APg1sABwNfD3JWpNMayvgvFqFHxMdgc9gXscvjWOuXD2zliv74MievHga8KWJBprvn02SPYBjgZ8Aj6XLi88B7k6XF+8/xejXAh+ky43jp3tPurx4GF1e/BLwtSnW11bAeau4DPP9M5jX8a+WqvI1hBdwMfCUcW07ArcDj2jdRwDvbu83Br4JXA9cB/yIrlj/bBvnD8BNwBuAxUAB+wCXAif1tK3Zpnci8F66L+Q30O0sNmz9dgaWThQv8Azgj8CtbX5n9kxv3/b+bsBbgUuAq4HPAOu1fmNx7N1iuwZ4yxTrab02/vI2vbe26T+lLfPtLY4jppjGXZantS8FXg+cDfyxtb0VuAi4ETgX2LVn+H2BE9v7Ndty7A9cCPwWOGSKGN7dGyPwqDb++m26JwGHtM/2HT3z+0Wb9reBLXrG/zPge234K4E3jJ8PcC/gKLpEcX37rDdu/X4MvKTn8/qnns/rCLqzYQAPanHu1dbXcuCgKZZzW+BXwGaT9N8N+M40/j8OAL43rm0X4NKe7gCXM+7/qPX7LN02+se2fewM3KOt42VtvA8Ba7fhn0K3jb+5rc9PTzDNbYAftPV5TZvHeuO2p50n+rzHTedP29G4bWlx6342cH7bBpcCr+4ZdlfgzPZ5/pi2r5hie34z3dnN37Vtaedh7O98+VrVF+bKuZArt2jLfQ1dfjygp99OwOltH3Ml8N7WfnWL/6b22n6C6R4MfLKn+9FtnHXocsD3gf+gy4FvbcPsD1zQPttv0ZNr6PLq99vwVwKvHT8f4N7AF9r419MdeN2g9TsZeFF7vwbwzrburwIOB9Zt/R4KrABeyh158fVTrNc/azFvOkn/vwGOm8b/woHA8ePadgUu6um+W1v2nScY/+i2Pd7SPpMnAPds63hZW5YPAGu14Z9B9/3mbW0dfGKCaT6Ubpu+rq2HI8fWU+t/JfD4iT7vcdO5U86ny9cFbN66d6PLYTcClwGv7Bn2ucBZ7fP8Ed0Z7N75v47u+9zNre1tbXl/R5drnzDs/Vy/X57Zm0Oq6md0/2xPmKD3a1u/RcAmdF/iqqpeTLcz+qvqjsS9v2ecJwIPA54+ySz3Al4G3J9ux3XINGI8HvgX4Ittfo+aYLCXtNeTgK3pdtzjr5d/PPAQ4MnAPyV52CSz/He6JLZ1W569gJdW1fe481HIl6ws9kns3qazXuv+JV3yWg94D3BUkk2mGH8XugS1PfCilV0iBH86Q/USuksprm/Nj6Pb6SwC3pfkeXRf3HdrbT+lK9xIsh5dofdfwKbAg+l2tuO9lK7g25zuKOLfA/83wXD7Ai+iS/QPpDs6+JFxwzyOrvB7OvDOJNtMsnhvAt5cVZe3SzIvTnJekrcmObSqvgGsleShk4w/lYfTFTpAt/HTFTYPHz9g+7/4IvAvbfs4ka6gXQI8ku7z2qnFO2Zzum11S7p1NV7oirhN6YraremSxmz7NLBPdWcyHgn8ELpLdYBP0H1eG9F9+fhGkrV7xv3T9pzk4XRfjHaoqvu09kv7EK80UObKCfUlV6a7d/E44H/plv8ZwJuTPLEN8lG6/ex96A6Ifb21/wVwW91xlvD0lcznHnSF7YVVNXb56F8AZ9AV8B9MsjvwKuCv6D7b04HPtfE3oMuLXwXuR5cXT5pgVvvSHWDbrE33QLqifLz9gRfQbWPb0J157D2ztgZdPnkQ3feA9yTZepLFezPdQdJlSV7U8uK57RLOf6+qrwDrJnnQVOtoEuPz4u3AOUycF/egu6LoXe0z+RFdQftIuoL00XTfA97QM9piYC26gv+Vk8Twz3Tr/M/ottV+XB56OLBXy4vb0RV1JHks8DG67zsb0R3U+fq4s3gvBJ4KbJTkUW3Y7ej+X55Ft78YaRZ7c88VwIYTtN9K9yVzq6q6tap+1L7sTuUdVfX7qvrDJP0/W1XnVNXv6b60vqDt2FfXnsCHquqittN+E7D7uH++d1bVH6rqTLod1V0SYYvlhcCbqurGqrqY7lKGF89CjGM+UlVLx9ZRVR1TVcuq6vaqOoruKO2SKcZ/b1Xd0GI7kW4HMpm/TXI93VGpP6M7GjXm0qo6tKpua7HsT5dAL6iqFXRFxo5JNqM7kndZVX2kqm6pqt+1Lz/j3UqXzB7UpntqTxLttSfwr1X1m6q6kS4x/W3vPTF029L/VdXP6Y6QTfTFBbrE+PUki+i+fDwH2IHu6N/Y5ZZntO6ZWofuyHqvG4B1pzn+nnTLsby6y5n+mTtvSyta/z9O9D9TVb+sqhNa/6uBD9N9qZpttwLbJlm3qq5r6xxgP+BjVXVK+zwPb+2997j0bs8r6I6OPjzJmu3zvagP8UrDYK5s+pwrHw/co6re1/Z9v6Q7ILV7638r8OAkG7V5/3SG039xy4uX0hXcf9PT76Kq+sS4vPjuti++la5QeXw7IPscukLxoz158ZQJ5ncr3YGAB1bVirY//f0Ew+0JfKCqLqmq39EVMHsmSc8wb2958RS6s06T3UO+E/BfLc4P0+XwJXQHDedCXnx7VV1TVVfRfdfo3W5uoSsOJ8uLv6iq77f+VwL/Rn/y4gq6XLZuVV3bc/Bgf+CjVXVa204Oo7s09tE94364qq7oyYv3pFv3a7T/vd/0Id45xWJv7tmM7nT4eB+gO53+nSQXJTloGtO6bAb9L6Hb6Ww8rSindv82vd5pr0l3JG5M7xPBbqbbYY23MbD2BNPabBZiHHOndZT/3969h0lW13cef3/CBAGFBaV1ERgbFS+sGnBH4obEqGiC4ILseoFEBUNCdNFo0F0xumqyTzbERM2aGAgKKxocuYgrEeNGESW6gg44chG5iKOMjsx4Ay9oMvjdP85pKXu6Z2qmu+tUnX6/nqefrvqdU6e+9evq+tb3nN/5neTE9qTp77UJ6FFsvU+GeR0z3ltVe1bVA6vqaVW1dr44aMbVv30gjm/RDMPZj2YP261bf1lAM7TpY8AFSb7engw/15j1uf5eO9MkRADaD/EZW3ud1SbhA4Gbq2ptVf0YuGBgnf1phlFurx8Ae8xq24NmWMcw9mHr76U7qmquPbwAJPm3SWb68i6a/l2M/5fZjqX5MvC1NDMBzkzk8xDg1TPvifZ9sc+s1/Cz91FV3URzlONPgI1JVif5uckZpAlmrrzXUubKhwDTsz53TqU5kgPN0bjHATcnuSrJfEdH5/Oegbz49Kq6dmDZXHnxzIE4NtF8eZ/Ji18e4vnOphktcVGaGZT/5zyF+1x/m125dwfDPVX1rYHlc/5t2p2m/9rutH0kcGNVXdsWHoPnJ448L7aF679l6++bb7Y5fb5tPDjJhQN58Z0sTV58Fs2OgK+lmTV1Zif8Q2iONA++P6eYPy/eAJxGM3JrY5LztjF6qxcs9sZIO0xrX5pzcX5Ou8fslVX1UJohDKcmOXxm8Tyb3NbezP0Hbq+k2eP1LeCHNMP/ZuLaiYEv/kNs9xs0/4CD295MM+Z7e3yrjWn2tnbkA3E+P3st7RCMM4CXAA+oqj1p9tZlnscuptl9ejvNUL49B352bfea3k4z3HLrG2z2tL2xqh5Ns3f2WJq9eLPN9ff6F5pEur3STphyC83e3oPb4TnPBXZqT1J/MHDN1jYyj587otgmqse27cPYwNbfS9t6X/85zV7Ox1YzZOlEduy98XP/X9z7pakJouqqqjqaZtjQh2jOL4Hm7/7Hs94Tu1XVYCFds7b191V1GHAAzbCjP9uBeKWxYq7cwlLmytuBL8363Nm9qo4FqKobq+p5NJ9XbwMuboeWb+u1D2OuvHjiHHnxaobPiz+pqtdX1aNohok+h3uPUg6a629zN3PvYNja8/0UWNG+N24GHp3kcW1efA5NXnw+TYH0ha1saj6z8+IvAI9hiLzYHvH+JgvLi39B83/wmDYv/i5Lkxc/U1XPpNkR8k805x9C83d//Rx58eL5XkM1M6v/Cs2Q511ojmb2msXeGEiyR5Jn0nyp+/uqum6OdZ6Z5OHtF9y7gHvaH2gSw3xjxbfm+UkOSrIbzd7/i6qZbvpmYJckR7Vf3F9Hc1h8xh00e/rme/+sBv4wyQFpptqfOW9hq9Mwz9bGcgHNWPjdkzyEZo/i32/9kTvsfjQfCptoaonfZceGVSyGM4HXzpyfkWTPNOfxQTOj18okL02yc/v+OXT2BpI8Nclj2r/TXTRfBuaaTnw1zRei6SS70+zxWt0mqe11JXBkVW0CXkZz/sZamuGwTwKeCjyr5pnWPMlObRJcAfxCkl0GjkZ+nCYxnpLmvMeXt6/pk0PGtprmnJe922Gm/53tey/tTpOQ7kwzlfmrtuOxg74APC7JY9PMpPaGmQVJdk3yW0n2aPemfp97/2ZnAaekmWY7Se6X5D9mnmm701z+4iltX93d/ix4OnmpK+bKuS1xrvwUQJJXzHwet8XK49v2F6YZwnkPzfDBohmFspHm83rlIsQw40zgdUke2T73Xklmhn3+H+DhSV4ykBe3uIxDkqe1f8uZYCwFfAAAIABJREFUvLiZ+fPiq9Jcd3F3moLgvW2BtL0+BxzRjpA5lSaHr6WZ7OapNKc/HDtfzt1GXvwosGuay5HcB/hDmjy1xY6QeawG3pDkAUkeSDNcdXvz4g+Au9q/9anb8dhBa4FD0lyeYjeac+wBSHLfJMcl2YMm58/Oiy9LsmogLx7dbmML7d/+15dbXrTY69Y/JJmZWei1NCf/vmiedQ+kGZL3A5qpe/+2mkknoNlb/7o0h7C35wvoe2iGon2TZu/GHwBU1Z00E1S8k2YPzw/5+RNYZ4YefDvJXEdozmm3fQXwFZpJQV62HXENeln7/LfRfHi9t93+omuHj7yNZta1DTSF3vaef7BYsVxI8364MM3QiGtpJw9o/z5PpxnSsJHmC8dcY+QfTHOy+l00e/k+xr17wwa9g2Yyk3/m3plIX76Dof8Z8KYkD6qq1VU1XVWPqqrX0byHf7/mmP57wItoPnz/mmbSgrtpEjztcNBjaPYcfo9mUpljtjbEZJY/pim0rqPpz6vYviNdb6CZBfBOmmQ956UztqWqvkjzpe4TNDO0zZ5E4ATgq+3f/STa8yfao7ovoTn6/F2av/vzt/JU9wHeRLPX/5s0E++8bkdiljpmrty2JcmV7efrkTSTdH2VZmfoGdw7ZPGZwE3t3+fPgOdWcy7cd2k+f65u+3tr57MPG8tqmglhLm4/H9fS5ELa53s6zVG6jTSfrb86x2b2pZlZ9Ps0E5l8mJ8/zWDGGTT58//RDA/9DjteyPxPmglmpqrqPQN58bU079cXtztI5/N7NLnwrTSv8W7aiXza4aDH0Mxm+T2a1/+s7dhh8HqaSzHcQNOfn6b5uw3r9TT9fCfwAXY8L17XPu8/04yo+sSsVX6H5v13J83kQye0j/s0zf/j39G8/puB32L+I5K70pzP+i2a73n3Y6Cw7Kvs2E4KSZpbkhfQfHi+nuaSET+gmUTkzTQTiCzZRWslSRo3SU6kmfzsvwMfoSnMf5kmL/5FNTNySkvCYk/SomuH+LyaZo/fbjR7Dc+oqvM6DUySpA4k+fc0efEwmrx4Pc2R57lG3EiLxmJPkiRJknrIc/YkSZIkqYfmuubWxNh7771renq66zAkSSNw9dVXf6uqpra9psAcKUnLxdby40QXe9PT06xZs6brMCRJI5Dkq9teSzPMkZK0PGwtPzqMU5IkSZJ6yGJPkiRJknrIYk+SJEmSeshiT5IkSZJ6yGJPkiRJknrIYk+SJEmSeshiT5IkSZJ6yGJPkiRJknrIYk+SJEmSemhF1wFIy9H0aZd29tzrTj+qs+eWNFmW4rPKzyBJGh2P7EmSJElSD1nsSZIkSVIPWexJkiRJUg9Z7EmSJElSD1nsSZIkSVIPWexJkiRJUg9Z7EmSJElSD1nsSZI0Ykn2T3J5khuT3JDk5W37/ZN8NMkt7e+92vYkeVuSW5Ncm+Tx3b4CSdIksNiTJGn0NgOvrKpHA08ETklyEHAacFlVHQhc1t4HeAZwYPtzMnDG6EOWJE0aiz1JkkasqjZU1TXt7e8DNwL7AscA57arnQs8q719DPDualwJ7JlknxGHLUmaMBZ7kiR1KMk0cAhwFfCgqtoATUEIPLBdbV/g9oGHrW/bZm/r5CRrkqzZtGnTUoYtSZoAFnuSJHUkyf2A9wOvqKq7trbqHG21RUPVWVW1qqpWTU1NLVaYkqQJZbEnSVIHkvwiTaF3XlVd3DbfMTM8s/29sW1fD+w/8PD9gG+MKlZJ0mSy2JMkacSSBDgbuLGq3jKw6BLghPb2CcAHB9pf2M7K+UTgzpnhnpIkzWdF1wFIkrQMHQa8ALguydq27Y+A04ELkpwEfA14Trvsw8CRwK3Aj4AXjTZcSdIkstiTJGnEqupTzH0eHsDhc6xfwClLGpQkqXccxilJkiRJPWSxJ0mSJEk91Emxl+QPk9yQ5Pokq5PskuSAJFcluSXJ+Ul27iI2SZIkSeqDkRd7SfYF/gBYVVWPAXYCjgP+HHhrVR0IfBc4adSxSZIkSVJfdDWMcwWwa5IVwG7ABuCpwEXt8nOBZ3UUmyRJkiRNvJHPxllVX0/ylzRTSt8N/BNwNfC9qtrcrrYe2Heuxyc5GTgZYOXKlUsfsHpp+rRLuw5BkiRJWlJdDOPcCzgGOAB4MHBf4BlzrFpzPb6qzqqqVVW1ampqaukClSRJkqQJ1sUwzqcBX6mqTVX1r8DFwK8Ae7bDOgH2A77RQWySJEmS1AtdXFT9a8ATk+xGM4zzcGANcDnwbOB9wAnABzuITeq9roewrjv9qE6fX5IkabkY+ZG9qrqKZiKWa4Dr2hjOAl4NnJrkVuABwNmjjk2SJEmS+qKLI3tU1RuAN8xqvg04tINwJEmSJKl3urr0giRJkiRpCVnsSZIkSVIPWexJkiRJUg9Z7EmSJElSD1nsSZIkSVIPWexJkiRJUg9Z7EmSJElSD1nsSZIkSVIPWexJkjRiSc5JsjHJ9QNt5ydZ2/6sS7K2bZ9OcvfAsjO7i1ySNElWdB2AJEnL0LuAvwHePdNQVc+buZ3kzcCdA+t/uaoOHll0kqResNiTJGnEquqKJNNzLUsS4LnAU0cZkySpfxzGKUnSePk14I6qumWg7YAkn0/yySS/Nt8Dk5ycZE2SNZs2bVr6SCVJY81iT5Kk8XI8sHrg/gZgZVUdApwKvDfJHnM9sKrOqqpVVbVqampqBKFKksaZxZ4kSWMiyQrgPwHnz7RV1U+q6tvt7auBLwOP6CZCSdIksdiTJGl8PA34UlWtn2lIMpVkp/b2Q4EDgds6ik+SNEEs9iRJGrEkq4HPAI9Msj7JSe2i4/j5IZwATwKuTfIF4CLgxVX1ndFFK0maVM7GKUnSiFXV8fO0nzhH2/uB9y91TJKk/vHIniRJkiT1kMWeJEmSJPWQxZ4kSZIk9ZDFniRJkiT1kMWeJEmSJPWQxZ4kSZIk9ZDFniRJkiT1kMWeJEmSJPWQxZ4kSZIk9ZDFniRJkiT10IquA5AkSdpR06dduqjbW3f6UYu6PUnqkkf2JEmSJKmHLPYkSZIkqYcs9iRJkiSphyz2JEmSJKmHLPYkSZIkqYcs9iRJkiSphyz2JEmSJKmHLPYkSZIkqYcs9iRJGrEk5yTZmOT6gbY3Jvl6krXtz5EDy16T5NYkNyX5zW6iliRNGos9SZJG713AEXO0v7WqDm5/PgyQ5CDgOODftY/52yQ7jSxSSdLEstiTJGnEquoK4DtDrn4M8L6q+klVfQW4FTh0yYKTJPWGxZ4kSePjpUmubYd57tW27QvcPrDO+rZtC0lOTrImyZpNmzYtdaySpDFnsSdJ0ng4A3gYcDCwAXhz25451q25NlBVZ1XVqqpaNTU1tTRRSpImhsWeJEljoKruqKp7quqnwDu4d6jmemD/gVX3A74x6vgkSZPHYk+SpDGQZJ+Bu8cCMzN1XgIcl+Q+SQ4ADgQ+O+r4JEmTZ0XXAUiStNwkWQ08Gdg7yXrgDcCTkxxMM0RzHfD7AFV1Q5ILgC8Cm4FTquqeLuKWJE2WToq9JHsC7wQeQ5PUfge4CTgfmKZJcs+tqu92EZ8kSUupqo6fo/nsraz/p8CfLl1EkqQ+6moY5/8CPlJVjwJ+CbgROA24rKoOBC5r70uSJEmSdsDIi70kewBPot2DWVX/UlXfo7mO0LntaucCzxp1bJIkSZLUF10c2XsosAn430k+n+SdSe4LPKiqNgC0vx8414O9hpAkSZIkbVsXxd4K4PHAGVV1CPBDtmPIptcQkiRJkqRt66LYWw+sr6qr2vsX0RR/d8xMO93+3thBbJIkSZLUCyOfjbOqvpnk9iSPrKqbgMNpppP+InACcHr7+4Ojimn6tEtH9VRbWHf6UZ09Nyzv1y5JkiT1WVfX2XsZcF6SnYHbgBfRHGW8IMlJwNeA53QUmyRJkiRNvE6KvapaC6yaY9Hho45FkiRJkvqoqyN7UqdDSCVJkqS+6+qi6pIkSZKkJWSxJ0mSJEk9ZLEnSZIkST1ksSdJkiRJPeQELR1zkhJJkiRJS8Eje5IkSZLUQxZ7kiRJktRDFnuSJEmS1EMWe5IkSZLUQ07QImmkupyUaN3pR3X23JIkSaPmkT1JkkYsyTlJNia5fqDtL5J8Kcm1ST6QZM+2fTrJ3UnWtj9ndhe5JGmSWOxJkjR67wKOmNX2UeAxVfU44GbgNQPLvlxVB7c/Lx5RjJKkCWexJ0nSiFXVFcB3ZrX9U1Vtbu9eCew38sAkSb1isSdJ0vj5HeAfB+4fkOTzST6Z5Nfme1CSk5OsSbJm06ZNSx+lJGmsWexJkjRGkrwW2Ayc1zZtAFZW1SHAqcB7k+wx12Or6qyqWlVVq6ampkYTsCRpbFnsSZI0JpKcADwT+O2qKoCq+klVfbu9fTXwZeAR3UUpSZoUFnuSJI2BJEcArwaOrqofDbRPJdmpvf1Q4EDgtm6ilCRNEq+zJ0nSiCVZDTwZ2DvJeuANNLNv3gf4aBKAK9uZN58E/EmSzcA9wIur6jtzbliSpAELKvaSHFZVn95WmyRJfbSjebCqjp+j+ex51n0/8P4dj1KStFwtdBjnXw/ZJklSH5kHJUlja4eO7CX5D8CvAFNJTh1YtAew02IEJknSuDIPSpImwY4O49wZuF/7+N0H2u8Cnr3QoCRJGnPmQUnS2NuhYq+qPgl8Msm7quqrixyTJEljzTwoSZoEC52N8z5JzgKmB7dVVU9d4HYlSZoE5kFJ0thaaLF3IXAm8E6a6aAlSVpOzIOSpLG10GJvc1WdsSiRSJI0ecyDkqSxtdBLL/xDkv+SZJ8k95/5WZTIJEkaf+ZBSdLYWuiRvRPa3/91oK2Ahy5wu5IkTQLzoCRpbC2o2KuqAxYrEEmSJo15UJI0zhZU7CV54VztVfXuhWxXkqRJYB6UJI2zhQ7jfMLA7V2Aw4FrAJOcJGk5MA9qm6ZPu3RRt7fu9KMWdXuS+muhwzhfNng/yb8B3rOgiCRJmhDmQUnSOFvobJyz/Qg4cJG3KUnSpDAPSpLGxkLP2fsHmlnHAHYCHg1csNCgJEmaBOZBSdI4W+g5e385cHsz8NWqWr/AbUqSNCnMg5KksbWgYZxV9UngS8DuwF7AvyxGUJIkTQLzoCRpnC2o2EvyXOCzwHOA5wJXJXn2YgQmSdK4Mw9KksbZQodxvhZ4QlVtBEgyBXwMuGihgUmSNAHMg5KksbXQ2Th/YSbBtb69CNuUJGlS7FAeTHJOko1Jrh9ou3+Sjya5pf29V9ueJG9LcmuSa5M8fvFfhiSpjxZamH0kyf9NcmKSE4FLgQ8vPCxJkibCjubBdwFHzGo7Dbisqg4ELmvvAzyD5nIOBwInA2csQtySpGVgh4ZxJnk48KCq+q9J/hPwq0CAzwDnLWJ8kiSNnYXmwaq6Isn0rOZjgCe3t88FPgG8um1/d1UVcGWSPZPsU1UbFuGlSJJ6bEeP7P0V8H2Aqrq4qk6tqj+k2Zv5V4sVnCRJY2op8uCDZgq49vcD2/Z9gdsH1lvftm0hyclJ1iRZs2nTph0MQ5LUFzta7E1X1bWzG6tqDTC9oIgkSRp/o8yDmaOt5mijqs6qqlVVtWpqamqRw5AkTZodLfZ22cqyXXdwm5IkTYqlyIN3JNkHoP09M/HLemD/gfX2A76xg88hSVpGdrTY+1yS35vdmOQk4OphNpBkpySfT/Kh9v4BSa5qZyE7P8nOOxibJElLbcF5cA6XACe0t08APjjQ/sJ2Vs4nAnd6vp4kaRg7ep29VwAfSPLb3JvUVgE7A8cOuY2XAzcCe7T3/xx4a1W9L8mZwEk445gkaTwtKA8mWU0zGcveSdYDbwBOBy5oC8av0VyoHZrzAI8EbgV+BLxo8V6GJKnPdqjYq6o7gF9J8hTgMW3zpVX18WEen2Q/4CjgT4FTkwR4KvBb7SrnAm/EYk+SNIYWmger6vh5Fh0+x7oFnLJDgUqSlrUdPbIHQFVdDly+Aw/9K+C/Abu39x8AfK+qNrf3tzrTGM11hli5cuUOPLUkSYtjAXlQkqQlt9CLqm+3JM8ENlbV4DkNzjQmSZIkSYtoQUf2dtBhwNFJjqSZzWwPmiN9eyZZ0R7dc6YxSZIkSVqAkR/Zq6rXVNV+VTUNHAd8vKp+m2YYzLPb1QZnIZMkSZIkbaeRF3tb8WqayVpupTmH7+yO45EkSZKkidXFMM6fqapPAJ9ob98GHNplPJIkSZLUF+N0ZE+SJEmStEgs9iRJkiSphyz2JEmSJKmHLPYkSZIkqYcs9iRJkiSphyz2JEmSJKmHLPYkSZIkqYcs9iRJkiSphyz2JEmSJKmHLPYkSZIkqYcs9iRJkiSphyz2JEmSJKmHLPYkSZIkqYdWdB2AJElqJHkkcP5A00OB1wN7Ar8HbGrb/6iqPjzi8CRJE8ZiT5KkMVFVNwEHAyTZCfg68AHgRcBbq+ovOwxPkjRhHMYpSdJ4Ohz4clV9tetAJEmTyWJPkqTxdByweuD+S5Ncm+ScJHvN9YAkJydZk2TNpk2b5lpFkrSMWOxJkjRmkuwMHA1c2DadATyMZojnBuDNcz2uqs6qqlVVtWpqamoksUqSxpfFniRJ4+cZwDVVdQdAVd1RVfdU1U+BdwCHdhqdJGkiWOxJkjR+jmdgCGeSfQaWHQtcP/KIJEkTx9k4JUkaI0l2A54O/P5A85uSHAwUsG7WMkmS5mSxJ2nZmD7t0k6ff93pR3X6/JoMVfUj4AGz2l7QUTiSpAnmME5JkiRJ6iGLPUmSJEnqIYs9SZIkSeohiz1JkiRJ6iEnaJGkEelyghgnh5EkafnxyJ4kSZIk9ZDFniRJkiT1kMWeJEmSJPWQxZ4kSZIk9ZDFniRJkiT1kMWeJEmSJPWQxZ4kSZIk9ZDFniRJkiT1kMWeJEmSJPWQxZ4kSZIk9ZDFniRJkiT10IquA5AkSVJ3pk+7dNG3ue70oxZ9m5K2n0f2JEmSJKmHLPYkSZIkqYcs9iRJkiSphzxnT5KkMZJkHfB94B5gc1WtSnJ/4HxgGlgHPLeqvttVjJKkyeCRPUmSxs9TqurgqlrV3j8NuKyqDgQua+9LkrRVIy/2kuyf5PIkNya5IcnL2/b7J/loklva33uNOjZJksbUMcC57e1zgWd1GIskaUJ0cWRvM/DKqno08ETglCQH4V5LSZIACvinJFcnOblte1BVbQBofz9wrgcmOTnJmiRrNm3aNKJwJUnjauTFXlVtqKpr2tvfB24E9sW9lpIkARxWVY8HnkGzQ/RJwz6wqs6qqlVVtWpqamrpIpQkTYROz9lLMg0cAlyFey0lSaKqvtH+3gh8ADgUuCPJPgDt743dRShJmhSdFXtJ7ge8H3hFVd017OPcaylJ6qsk902y+8xt4DeA64FLgBPa1U4APthNhJKkSdLJpReS/CJNoXdeVV3cNt+RZJ+q2uBeS0nSMvUg4ANJoMnR762qjyT5HHBBkpOArwHP6TBGSdKEGHmxlyaDnQ3cWFVvGVg0s9fydNxrKUlahqrqNuCX5mj/NnD46COSJE2yLo7sHQa8ALguydq27Y9oijz3WkqSJEnSIhh5sVdVnwIyz2L3WkqSJEnSIuh0Nk5JkiRJ0tKw2JMkSZKkHrLYkyRJkqQestiTJEmSpB6y2JMkSZKkHrLYkyRJkqQestiTJEmSpB6y2JMkSZKkHhr5RdUlSaM3fdqlnT33utOP6uy5JUlazjyyJ0mSJEk9ZLEnSZIkST1ksSdJkiRJPWSxJ0mSJEk9ZLEnSZIkST1ksSdJkiRJPeSlFyRJkjTWFvvyMV4SRsuFR/YkSZIkqYcs9iRJGhNJ9k9yeZIbk9yQ5OVt+xuTfD3J2vbnyK5jlSSNP4dxSpI0PjYDr6yqa5LsDlyd5KPtsrdW1V92GJskacJY7EmSNCaqagOwob39/SQ3Avt2G5UkaVJZ7EmSNIaSTAOHAFcBhwEvTfJCYA3N0b/vzvGYk4GTAVauXDmyWCU5iYzGk+fsSZI0ZpLcD3g/8Iqqugs4A3gYcDDNkb83z/W4qjqrqlZV1aqpqamRxStJGk8We5IkjZEkv0hT6J1XVRcDVNUdVXVPVf0UeAdwaJcxSpImg8WeJEljIkmAs4Ebq+otA+37DKx2LHD9qGOTJE0ez9mTJGl8HAa8ALguydq27Y+A45McDBSwDvj9bsKTJE0Siz1JksZEVX0KyByLPjzqWCRJk89hnJIkSZLUQxZ7kiRJktRDFnuSJEmS1EMWe5IkSZLUQxZ7kiRJktRDFnuSJEmS1EMWe5IkSZLUQxZ7kiRJktRDFnuSJEmS1EMWe5IkSZLUQxZ7kiRJktRDK7oOQJIkSdLSmj7t0kXf5rrTj1r0bWpxeWRPkiRJknrIYk+SJEmSeshiT5IkSZJ6yGJPkiRJknrIYk+SJEmSesjZOCVJkiR1brFnDHW2UI/sSZIkSVIvjV2xl+SIJDcluTXJaV3HI0nSODA/SpK211gVe0l2At4OPAM4CDg+yUHdRiVJUrfMj5KkHTFu5+wdCtxaVbcBJHkfcAzwxU6jkiSpW+ZHSRoDk3ZeYapqSZ9geyR5NnBEVf1ue/8FwC9X1UsH1jkZOLm9+0jgpkV46r2Bby3CdvrEPtmSfbIl+2RL9smWFqtPHlJVU4uwnYkzTH5s2xc7R07S+3mSYoXJitdYl8YkxQqTFe9yi3Xe/DhuR/YyR9vPVaNVdRZw1qI+abKmqlYt5jYnnX2yJftkS/bJluyTLdkni2Kb+REWP0dO0t9ukmKFyYrXWJfGJMUKkxWvsd5rrM7ZA9YD+w/c3w/4RkexSJI0LsyPkqTtNm7F3ueAA5MckGRn4Djgko5jkiSpa+ZHSdJ2G6thnFW1OclLgf8L7AScU1U3jOCpF3VYaE/YJ1uyT7Zkn2zJPtmSfbJA5sehTFKsMFnxGuvSmKRYYbLiNdbWWE3QIkmSJElaHOM2jFOSJEmStAgs9iRJkiSph5ZNsZfkiCQ3Jbk1yWlzLL9PkvPb5VclmR59lKM1RJ+cmuSLSa5NclmSh3QR56htq18G1nt2kkoyEVP7LsQwfZLkue375YYk7x11jKM2xP/PyiSXJ/l8+z90ZBdxjlKSc5JsTHL9PMuT5G1tn12b5PGjjlFzm6QcOUSsT0pyTZLN7fUJOzNpeXaIeF+c5Loka5N8KslBXcTZxjIxuXqIfj0xyaa2X9cm+d0u4mxjmZh8P0S/vnWgT29O8r0u4hyIp5vvDVXV+x+ak9m/DDwU2Bn4AnDQrHX+C3Bme/s44Pyu4x6DPnkKsFt7+yV975Nh+6Vdb3fgCuBKYFXXcXfdJ8CBwOeBvdr7D+w67jHok7OAl7S3DwLWdR33CPrlScDjgevnWX4k8I8014x7InBV1zH7M1k5cshYp4HHAe8Gnj3m/To2eXbIePcYuH008JFxjbVdr/NcPWS/ngj8TVd/++2MdSzy/bDvgYH1X0YzsdU49+2SfG9YLkf2DgVurarbqupfgPcBx8xa5xjg3Pb2RcDhSea6iG1fbLNPquryqvpRe/dKmus69d0w7xWA/wG8CfjxKIPryDB98nvA26vquwBVtXHEMY7aMH1SwB7t7X/DMrgmWlVdAXxnK6scA7y7GlcCeybZZzTRaSsmKUcOk7vWVdW1wE87iG/QpOXZYeK9a+DufWk+57owSbl62FjHwSTl++3t1+OB1SOJbG6dfW9YLsXevsDtA/fXt21zrlNVm4E7gQeMJLpuDNMng06i2SPfd9vslySHAPtX1YdGGViHhnmvPAJ4RJJPJ7kyyREji64bw/TJG4HnJ1kPfJhmr+Jyt72fOxqNScqRk/QemrQ8O1S8SU5J8mWaIuoPRhTbbJOUq4d9H/zndujeRUn2H01oW5ikfD/0/1c7PPoA4OMjiGs+nX1vWC7F3lx7H2fvjRpmnT4Z+vUmeT6wCviLJY1oPGy1X5L8AvBW4JUji6h7w7xXVtAM7Xgyzd6zdybZc4nj6tIwfXI88K6q2o9m+OJ72vfPcrbcPmcnxSTlyHGJYxiTlmeHireq3l5VDwNeDbxuyaOa2yTl6mH69R+A6ap6HPAx7j2KPmqTlO+357PgOOCiqrpnCePZls6+NyyXLx7rgcG9JPux5aHRn62TZAXN4dOtDUeadMP0CUmeBrwWOLqqfjKi2Lq0rX7ZHXgM8Ikk62jOO7qkyxO/R2DY/58PVtW/VtVXgJtokkFfDdMnJwEXAFTVZ4BdgL1HEt34GupzRyM3STlykt5Dk5Znt7dv3wc8a0kjmt8k5ept9mtVfXvgb/8O4N+PKLbZJinfb8/79Ti6HcIJHX5vWC7F3ueAA5MckGRnmj/6JbPWuQQ4ob39bODj1Z4h2VPb7JN2CMTf0SSgvp+DNWOr/VJVd1bV3lU1XVXTNOdYHF1Va7oJdySG+f/5PzQTDZBkb5phHreNNMrRGqZPvgYcDpDk0TQf2ptGGuX4uQR4YRpPBO6sqg1dB6WJypHDxDouJi3PDhPv4Jf6o4BbRhjfoEnK1cP06+C5y0cDN44wvkGTlO+H+ixI8khgL+AzI45vtu6+NyzlzDPj9ENzOPRmmplwXtu2/QnNPz9th14I3Ap8Fnho1zGPQZ98DLgDWNv+XNJ1zOPQL7PW/QQ9n41zyPdKgLcAXwSuA47rOuYx6JODgE/TzLi1FviNrmMeQZ+sBjYA/0qzF/Mk4MXAiwfeJ29v++y65fC/Myk/k5Qjh4j1Ce3774fAt4EbxjjWscqzQ8T7v4Ab2lgvB/7duMY6a91Oc/UQ/fpnbb9+oe3XR41xrGOT74d5D9CcB3d6VzFuZ98uyfeGtBuXJEmSJPXIchnGKUmSJEnLisWeJEmSJPWQxZ4kSZIk9ZDFniRJkiT1kMWeJEmSJPWQxZ4kSZIk9ZDFnjSEJPckWZvk+iQXJtltEba5KsnbtrL8wUkuWujzDGzvPkleleSz7WvDr7aSAAADwklEQVS5JMlhW1n/OUluSPLTJKtmLXtNkluT3JTkNxcrRknSZDE/mh813rzOnjSEJD+oqvu1t88Drq6qtwwsD83/00+7inFrktwH+DDwceBvqurOJAfSXOD6zKq6eI7HPBr4KfB3wKuqak3bfhDNxbMPBR5Mc1HgR1TVPSN5MZKksWF+ND9qvHlkT9p+/ww8PMl0khuT/C1wDbB/kt9I8pkk17R7OGcS4BOS/L8kX2j3HO6e5MlJPtQu//V2b+LaJJ9vl08nub5dvkuS/53kunb5U9r2E5NcnOQjSW5J8qZ5Yn4NcGFV/WlV3QlQVbcAxwCvTLLr7AdU1Y1VddMc2zoGeF9V/aSqvgLcSpPYJEnLm/nR/KgxY7EnbYckK4BnANe1TY8E3l1VhwA/BF4HPK2qHg+sAU5NsjNwPvDyqvol4GnA3bM2/SrglKo6GPi1OZafAlBVjwWOB85Nsku77GDgecBjgecl2X+O0I8E/i7Jw5P8c5JPtkNkDgEubF/TsPYFbh+4v75tkyQtU+ZHwPyoMWSxJw1n1yRraRLU14Cz2/avVtWV7e0nAgcBn27XPQF4CE3C21BVnwOoqruqavOs7X8aeEuSPwD2nGP5rwLvaR//JeCrwCPaZZdV1Z1V9WPgi+1z/kySKeD2asZsnw68HDgC+GVgZ+Am4GHb0ReZo83x4JK0PJkfBzY5R5v5UZ1a0XUA0oS4u92r+DPNaQj8cLAJ+GhVHT9rvcexjQ/7qjo9yaU0exivTPI04Meztj2fnwzcvoct/6/TtgM8oKquaeP6RNv2QGDj1uKbZT0wuHd0P+Ab2/F4SVJ/mB/vZX7U2PHInrR4rgQOS/JwgCS7JXkE8CXgwUme0Lbv3g53+ZkkD6uq66rqz2n2jj5q1ravAH67XfcRwEqaPY7bVFUbgZVJdgK+m+TgdojLrwN70uxh/dB2vM5LgOPSzF52AHAg8NnteLwkaXkxP0od8cietEiqalOSE4HVaWb3AnhdVd2c5HnAX7cnet9Nc17CoFe0J5XfQzPU5B+BfQaW/y1wZpLrgM3AiVX1k3bv6TA+DryU5kT0s9ttfAZ4MfDfqurbsx+Q5Fjgr4Ep4NIka6vqN6vqhiQXtHFupjmXwpnGJElzMj9K3fHSC9IykOa6Rx8B3gecU1U/TrISeHpVnb31R0uS1E/mR/WdwzilZaCqfgT8JnB/4IokVwNvoZkSW5KkZcn8qL7zyJ4kSZIk9ZBH9iRJkiSphyz2JEmSJKmHLPYkSZIkqYcs9iRJkiSph/4/9nDsTlA9gzEAAAAASUVORK5CYII=\n",
      "text/plain": [
       "<Figure size 1080x720 with 4 Axes>"
      ]
     },
     "metadata": {
      "needs_background": "light"
     },
     "output_type": "display_data"
    },
    {
     "name": "stdout",
     "output_type": "stream",
     "text": [
      "\n",
      "\n",
      "CPU times: user 47.5 s, sys: 108 ms, total: 47.6 s\n",
      "Wall time: 47 s\n"
     ]
    }
   ],
=======
   "outputs": [],
>>>>>>> a7d543d53bbd98f7a068297b5062ddbcdd9a5726
   "source": [
    "%%time\n",
    "\n",
    "sparse_mat = spark_to_sparse(ratings_spark_df)\n",
    "lightfm_model(sparse_mat, prec_at_k=10, train_split=0.8)"
   ]
  },
  {
   "cell_type": "markdown",
   "metadata": {},
   "source": [
    "### 2.4. Neighborhood based method using Nearest Neighbor\n",
    "\n",
    "We use Nearest Neighbor algorithm with z-score normalization of each user"
   ]
  },
  {
   "cell_type": "code",
   "execution_count": null,
   "metadata": {},
<<<<<<< HEAD
   "outputs": [
    {
     "name": "stdout",
     "output_type": "stream",
     "text": [
      "Evaluating RMSE, MAE of algorithm KNNWithZScore on 5 split(s).\n",
      "\n",
      "                  Fold 1  Fold 2  Fold 3  Fold 4  Fold 5  Mean    Std     \n",
      "RMSE (testset)    0.9024  0.8969  0.9035  0.9120  0.9035  0.9037  0.0048  \n",
      "MAE (testset)     0.6880  0.6809  0.6880  0.6916  0.6835  0.6864  0.0038  \n",
      "Fit time          0.24    0.24    0.24    0.24    0.23    0.24    0.00    \n",
      "Test time         1.09    1.05    1.00    1.02    0.95    1.02    0.05    \n",
      "\n",
      "\n",
      "CPU times: user 5.33 s, sys: 47.9 ms, total: 5.38 s\n",
      "Wall time: 6.68 s\n"
     ]
    }
   ],
=======
   "outputs": [],
>>>>>>> a7d543d53bbd98f7a068297b5062ddbcdd9a5726
   "source": [
    "%%time\n",
    "\n",
    "# Defining parameters for Nearest Neighbor model\n",
    "sim_options = {'name': 'cosine',\n",
    "               'user_based': True\n",
    "               }\n",
    "model = KNNWithZScore(sim_options=sim_options)\n",
    "\n",
    "KNN(model=model, df=ratings_spark_df)"
   ]
  },
  {
   "cell_type": "markdown",
   "metadata": {},
   "source": [
    "#### We observe that the Baseline Bias model performs quite well, and other more sophesiticated models (except lightFM) don't yield significant improvments over it hence the Bias model might be the most suited for production\n",
    "\n",
    "#### We observe that LightFm model has high AUC, meaning it is producing quantifiably quality results."
   ]
  }
 ],
 "metadata": {
  "hide_input": false,
  "kernelspec": {
   "display_name": "Python 3",
   "language": "python",
   "name": "python3"
  },
  "language_info": {
   "codemirror_mode": {
    "name": "ipython",
    "version": 3
   },
   "file_extension": ".py",
   "mimetype": "text/x-python",
   "name": "python",
   "nbconvert_exporter": "python",
   "pygments_lexer": "ipython3",
   "version": "3.7.1"
  }
 },
 "nbformat": 4,
 "nbformat_minor": 2
}
