{
 "cells": [
  {
   "cell_type": "code",
   "execution_count": 1,
   "metadata": {},
   "outputs": [],
   "source": [
    "import os\n",
    "import numpy as np\n",
    "import pandas as pd\n",
    "from scipy import sparse\n",
    "import matplotlib.pyplot as plt\n",
    "%matplotlib inline\n",
    "\n",
    "import warnings\n",
    "warnings.simplefilter('ignore')\n",
    "\n",
    "\n",
    "from pyspark import SparkContext\n",
    "from pyspark.sql import SQLContext\n",
    "\n",
    "# Loading custom built functions\n",
    "from loader1 import load_spark_df, load_pandas_df\n",
    "from model1 import get_best_rank, cross_validation\n",
    "\n",
    "# Importing pyspark functins\n",
    "import pyspark\n",
    "from pyspark.sql.functions import split, explode\n",
    "from pyspark.sql import Row\n",
    "from pyspark.ml.evaluation import RegressionEvaluator\n",
    "from pyspark.ml.recommendation import ALS\n",
    "from pyspark.mllib.evaluation import RegressionMetrics, RankingMetrics\n",
    "from pyspark.ml.tuning import CrossValidator, ParamGridBuilder\n",
    "\n",
    "\n",
    "from sklearn.neighbors import NearestNeighbors\n",
    "\n"
   ]
  },
  {
   "cell_type": "markdown",
   "metadata": {},
   "source": [
    "## 1. Loading Data \n",
    "\n",
    "We implement a function to cache and load the dataframe from secondary memory to reduce data load time"
   ]
  },
  {
   "cell_type": "code",
   "execution_count": 2,
   "metadata": {},
   "outputs": [
    {
     "name": "stdout",
     "output_type": "stream",
     "text": [
      "Loading from /media/anirudh/Data/Code/Fall 2019/Personalization/project/personalization_1/cache/ml-latest-small_movies.msgpack\n",
      "Loading from /media/anirudh/Data/Code/Fall 2019/Personalization/project/personalization_1/cache/ml-latest-small_ratings.msgpack\n"
     ]
    }
   ],
   "source": [
    "# Setting Directory path\n",
    "base_path = os.getcwd()\n",
    "dir_name = 'ml-latest-small'\n",
    "CACHE_DIR = base_path + '/cache/'\n",
    "DATA_DIR =  base_path + '/data/'\n",
    "\n",
    "# Loading the Data Frames\n",
    "movies_spark_df = load_spark_df(dir_name=dir_name, \n",
    "                                file_name='movies', \n",
    "                                use_cache=True,\n",
    "                                DATA_DIR=DATA_DIR,\n",
    "                                CACHE_DIR=CACHE_DIR\n",
    "                               )\n",
    "\n",
    "ratings_spark_df = load_spark_df(dir_name=dir_name, \n",
    "                                 file_name='ratings', \n",
    "                                 use_cache=True,\n",
    "                                 DATA_DIR=DATA_DIR,\n",
    "                                 CACHE_DIR=CACHE_DIR)"
   ]
  },
  {
   "cell_type": "markdown",
   "metadata": {},
   "source": [
    "## 2. Model based method using Alternating Least Squares method\n",
    "\n",
    "We build a Matrix Factorization model using ALS method, and iterate over diffrent rank ranges to find the optimal rank"
   ]
  },
  {
   "cell_type": "code",
   "execution_count": 3,
   "metadata": {},
   "outputs": [
    {
     "name": "stdout",
     "output_type": "stream",
     "text": [
      "RMSE is 0.8727530019937276\n",
      "{Param(parent='ALS_7bfb68e5ccc1', name='maxIter', doc='max number of iterations (>= 0).'): 3, Param(parent='ALS_7bfb68e5ccc1', name='regParam', doc='regularization parameter (>= 0).'): 0.01, Param(parent='ALS_7bfb68e5ccc1', name='rank', doc='rank of the factorization'): 64}\n"
     ]
    }
   ],
   "source": [
    "# Creating a Parameter Grid for ALS\n",
    "model = ALS(userCol=\"userId\",\n",
    "                  itemCol=\"movieId\",\n",
    "                  ratingCol=\"rating\",\n",
    "                  coldStartStrategy=\"drop\",\n",
    "                  nonnegative=True)\n",
    "\n",
    "paramGrid = ParamGridBuilder() \\\n",
    "            .addGrid(model.maxIter, [3]) \\\n",
    "            .addGrid(model.regParam, [0.01,0.1]) \\\n",
    "            .addGrid(model.rank, [64, 128]) \\\n",
    "            .build()\n",
    "\n",
    "# Finding best parameter combination from cross validation\n",
    "cross_validation(ratings_spark_df, \n",
    "                 model='ALS', \n",
    "                 evaluator='Regression', \n",
    "                 param_grid=paramGrid, \n",
    "                 k_folds=3)"
   ]
  },
  {
   "cell_type": "code",
   "execution_count": 4,
   "metadata": {},
   "outputs": [
    {
     "name": "stdout",
     "output_type": "stream",
     "text": [
      "RANK: 1 RMSE : 0.8901\n",
      "RANK: 2 RMSE : 0.9009\n",
      "RANK: 4 RMSE : 0.8929\n",
      "RANK: 8 RMSE : 0.8806\n",
      "RANK: 16 RMSE : 0.8770\n",
      "RANK: 32 RMSE : 0.8776\n",
      "RANK: 64 RMSE : 0.8747\n",
      "RANK: 128 RMSE : 0.8735\n"
     ]
    },
    {
     "data": {
      "image/png": "[encoded data removed]",
      "text/plain": [
       "<Figure size 432x288 with 1 Axes>"
      ]
     },
     "metadata": {
      "needs_background": "light"
     },
     "output_type": "display_data"
    }
   ],
   "source": [
    "# Plotting RMSE versus rank\n",
    "ranks = [2**i for i in range(8)]\n",
    "rmse_dict = get_best_rank(ratings_spark_df, ranks=ranks)\n",
    "\n",
    "plt.plot(list(rmse_dict[0].values()))\n",
    "plt.xlabel(\"Log_2(Rank)\")\n",
    "plt.ylabel(\"RMSE\")\n",
    "plt.title(\"Error vs Rank for ALS model\")\n",
    "plt.show()"
   ]
  },
  {
   "cell_type": "code",
   "execution_count": null,
   "metadata": {},
   "outputs": [],
   "source": [
    "rmse_dict = get_best_rank(ratings_spark_df)\n",
    "get_rank_report(ratings_spark_df)\n",
    "#print(\"RMSE=\" + str(rmse_dict))\n",
    "#predictions.show()"
   ]
  },
  {
   "cell_type": "code",
   "execution_count": null,
   "metadata": {},
   "outputs": [],
   "source": [
    "def spark_to_sparse(spark_df, user_or_item='user'):\n",
    "    df = spark_df.drop('timestamp')\n",
    "    pd_df = df.toPandas()\n",
    "\n",
    "    row = pd_df['userId'].values\n",
    "    column = pd_df['movieId'].values\n",
    "    values = pd_df['rating'].values\n",
    "\n",
    "    num_rows = max(pd_df['userId'])\n",
    "    num_columns = max(pd_df['movieId'])\n",
    "\n",
    "    sparse_mat = np.empty([num_rows + 1, num_columns + 1])\n",
    "    sparse_mat[row, column] = values\n",
    "    if user_or_item == 'item':\n",
    "        sparse_mat = sparse_mat.T\n",
    "    elif user_or_item == 'user':\n",
    "        pass\n",
    "    else:\n",
    "        sys.exit()\n",
    "\n",
    "    sparse_mat = sparse.csr_matrix(sparse_mat)\n",
    "    return sparse_mat\n",
    "\n",
    "\n",
    "def get_nn(sparse_mat,\n",
    "           num_neighbors=5,\n",
    "           metric='euclidean',\n",
    "           algorithm='auto',\n",
    "           n_neighbors=5):\n",
    "\n",
    "    model_knn = NearestNeighbors(\n",
    "        metric='cosine', algorithm='brute', n_neighbors=5, n_jobs=-1)\n",
    "    model_knn.fit(sparse_mat)\n",
    "    distances, indices = model_knn.kneighbors(sparse_mat)\n",
    "    return (distances, indices)"
   ]
  },
  {
   "cell_type": "code",
   "execution_count": null,
   "metadata": {},
   "outputs": [],
   "source": [
    "sparse_mat = spark_to_sparse(ratings_spark_df)\n",
    "(distances, indices) = get_nn(sparse_mat)"
   ]
  },
  {
   "cell_type": "code",
   "execution_count": null,
   "metadata": {},
   "outputs": [],
   "source": []
  }
 ],
 "metadata": {
  "kernelspec": {
   "display_name": "Python 3",
   "language": "python",
   "name": "python3"
  },
  "language_info": {
   "codemirror_mode": {
    "name": "ipython",
    "version": 3
   },
   "file_extension": ".py",
   "mimetype": "text/x-python",
   "name": "python",
   "nbconvert_exporter": "python",
   "pygments_lexer": "ipython3",
   "version": "3.7.4"
  }
 },
 "nbformat": 4,
 "nbformat_minor": 2
}
