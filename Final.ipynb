{
 "cells": [
  {
   "cell_type": "code",
   "execution_count": 1,
   "metadata": {},
   "outputs": [],
   "source": [
    "import pandas as pd\n",
    "import os\n",
    "\n",
    "from pyspark import SparkContext\n",
    "from pyspark.sql import SQLContext\n",
    "\n",
    "from loader1 import load_spark_df, load_pandas_df\n",
    "import pyspark\n",
    "from pyspark.sql.functions import split, explode\n",
    "from pyspark.sql import Row\n",
    "from pyspark.ml.evaluation import RegressionEvaluator\n",
    "from pyspark.ml.recommendation import ALS\n",
    "from pyspark.mllib.evaluation import RegressionMetrics, RankingMetrics\n",
    "from pyspark.ml.tuning import CrossValidator, ParamGridBuilder\n",
    "\n",
    "from sklearn.neighbors import NearestNeighbors\n"
   ]
  },
  {
   "cell_type": "code",
   "execution_count": 2,
   "metadata": {},
   "outputs": [],
   "source": [
    "def load_pandas_df(dir_name, file_name, use_cache=True):\n",
    "    \"\"\"\n",
    "        Code to load Pandas DataFrame\n",
    "    \"\"\"\n",
    "    cache_path = os.path.join(CACHE_DIR, f'{dir_name}_{file_name}.msgpack')\n",
    "    if os.path.exists(cache_path) and use_cache:\n",
    "        print(f'Loading from {cache_path}')\n",
    "        df = pd.read_msgpack(cache_path)\n",
    "    else:\n",
    "        csv_path = os.path.join(DATA_DIR, dir_name, file_name + '.csv')\n",
    "        df = pd.read_csv(csv_path)\n",
    "        pd.to_msgpack(cache_path, df)\n",
    "        print(f'Dumping to {cache_path}')\n",
    "    return df\n",
    "\n",
    "def load_spark_df(dir_name, file_name, use_cache=True):\n",
    "    \"\"\"\n",
    "        Code to load Spark DataFrame using load_pandas_df function\n",
    "    \"\"\"\n",
    "    cache_path = os.path.join(CACHE_DIR,\n",
    "                              f'spark_{dir_name}_{file_name}.msgpack')\n",
    "    if os.path.exists(cache_path) and use_cache:\n",
    "        print(f'Loading from {cache_path}')\n",
    "        spark_df = pd.read_msgpack(cache_path)\n",
    "    else:\n",
    "        pandas_df = load_pandas_df(dir_name, file_name, use_cache=True)\n",
    "        #        sc = SparkContext.('local','example')  # if using locally\n",
    "        sc = SparkContext.getOrCreate()  # else get multiple contexts error\n",
    "        sql_sc = SQLContext(sc)\n",
    "        spark_df = sql_sc.createDataFrame(pandas_df)\n",
    "    return spark_df"
   ]
  },
  {
   "cell_type": "code",
   "execution_count": 3,
   "metadata": {},
   "outputs": [
    {
     "name": "stdout",
     "output_type": "stream",
     "text": [
      "Loading from ./cache/ml-latest-small_movies.msgpack\n"
     ]
    },
    {
     "name": "stderr",
     "output_type": "stream",
     "text": [
      "/media/anirudh/Data/Code/anaconda3/envs/pers/lib/python3.7/site-packages/ipykernel_launcher.py:26: FutureWarning: The read_msgpack is deprecated and will be removed in a future version.\n",
      "It is recommended to use pyarrow for on-the-wire transmission of pandas objects.\n"
     ]
    },
    {
     "name": "stdout",
     "output_type": "stream",
     "text": [
      "Loading from ./cache/ml-latest-small_ratings.msgpack\n"
     ]
    }
   ],
   "source": [
    "# 2.Data and methods\n",
    "\n",
    "dir_name = 'ml-latest-small'\n",
    "CACHE_DIR = './cache/'\n",
    "DATA_DIR = './data/'\n",
    "movies_spark_df = load_spark_df(dir_name, 'movies', use_cache=True)\n",
    "ratings_spark_df = load_spark_df(dir_name, 'ratings', use_cache=True)"
   ]
  },
  {
   "cell_type": "code",
   "execution_count": 4,
   "metadata": {},
   "outputs": [],
   "source": [
    "def get_als_model_rmse(df, rank):\n",
    "    train, test = df.randomSplit([0.9, 0.1], seed=1)\n",
    "    als = ALS(\n",
    "        maxIter=5,\n",
    "        regParam=0.09,\n",
    "        rank=rank,\n",
    "        userCol=\"userId\",\n",
    "        itemCol=\"movieId\",\n",
    "        ratingCol=\"rating\",\n",
    "        coldStartStrategy=\"drop\",\n",
    "        nonnegative=True)\n",
    "\n",
    "    model = als.fit(train)\n",
    "    evaluator = RegressionEvaluator(\n",
    "        metricName=\"rmse\", labelCol=\"rating\", predictionCol=\"prediction\")\n",
    "    predictions = model.transform(test)\n",
    "    rmse = evaluator.evaluate(predictions)\n",
    "    print(f'RMSE is {rmse}')\n",
    "    return (predictions, model, rmse)\n",
    "\n",
    "\n",
    "def get_nearest_neighbours_model():\n",
    "    from scipy.sparse import csr_matrix\n",
    "    #make an object for the NearestNeighbors Class.\n",
    "    model_knn = NearestNeighbors(\n",
    "        metric='cosine', algorithm='brute', n_neighbors=20, n_jobs=-1)\n",
    "    # fit the dataset\n",
    "    model_knn.fit(movie_user_mat_sparse)\n",
    "\n",
    "\n",
    "def calculate_coverage(model):\n",
    "    user_recos = model.recommendForAllUsers(numItems=10)\n",
    "    #    breakpoint()\n",
    "\n",
    "    df1 = user_recos.select(explode(user_recos.recommendations).alias('col1'))\n",
    "    df2 = df1.select('col1.*')\n",
    "    df3 = df2.select('movieId').distinct()\n",
    "    df4 = df3.toPandas()\n",
    "    movie_set = df4['movieId'].values\n",
    "    #    recos_list = user_recos.select('recommendations').collect()\n",
    "    #    recos_list = [el for el in recos_list]\n",
    "    #    recos_list = [x for b in recos_list for x in b]\n",
    "    #    recos_list = [item for sublist in recos_list for item in sublist]\n",
    "    #    movie_list = [row['movieId'] for row in recos_list]\n",
    "    #    movie_set = list(set(movise_list))\n",
    "    return movie_set\n",
    "\n",
    "\n",
    "def get_best_rank(df):\n",
    "    #based on rmse\n",
    "    rmse_dict = {}\n",
    "    coverage_dict = {}\n",
    "    for rank in [1, 2, 4, 8, 16, 32, 64, 128]:\n",
    "        #    for rank in [64, 128]:\n",
    "        print(f'Rank is {rank}')\n",
    "        _, model, rmse = get_als_model_rmse(df, rank)\n",
    "        coverage = calculate_coverage(model)\n",
    "        rmse_dict[rank] = rmse\n",
    "        coverage_dict[rank] = coverage\n",
    "    return rmse_dict, coverage_dict\n",
    "\n",
    "\n",
    "def get_rank_report(df):\n",
    "    rank = 64\n",
    "    predictions, model, rmse = get_als_model_rmse(df, rank)\n",
    "    valuesAndPreds = predictions.rdd.map(lambda x: (x.rating, x.prediction))\n",
    "    regressionmetrics = RegressionMetrics(valuesAndPreds)\n",
    "    rankingmetrics = RankingMetrics(valuesAndPreds)\n",
    "    print(\"MAE = {regressionmetrics.meanAbsoluteError}\")\n",
    "\n",
    "\n",
    "def cross_validation(df):\n",
    "    \"\"\"\n",
    "        Cross validation\n",
    "    \"\"\"\n",
    "    train, test = df.randomSplit([0.9, 0.1], seed=1)\n",
    "    \n",
    "    als = ALS(\n",
    "        userCol=\"userId\",\n",
    "        itemCol=\"movieId\",\n",
    "        ratingCol=\"rating\",\n",
    "        coldStartStrategy=\"drop\",\n",
    "        nonnegative=True)\n",
    "    \n",
    "    evaluator = RegressionEvaluator(\n",
    "        metricName=\"rmse\", labelCol=\"rating\", predictionCol=\"prediction\")\n",
    "    \n",
    "    paramGrid = ParamGridBuilder() \\\n",
    "    .addGrid(als.maxIter, [3]) \\\n",
    "    .addGrid(als.regParam, [0.01,0.1]) \\\n",
    "    .addGrid(als.rank, [64, 128]) \\\n",
    "    .build()\n",
    "    \n",
    "        \n",
    "    crossval = CrossValidator(estimator=als,\n",
    "                          estimatorParamMaps=paramGrid,\n",
    "                          evaluator= RegressionEvaluator( metricName=\"rmse\", \n",
    "                                                          labelCol=\"rating\",\n",
    "                                                          predictionCol=\"prediction\"),\n",
    "                            numFolds=3) \n",
    "\n",
    "    # Run cross-validation, and choose the best set of parameters.\n",
    "    cvModel = crossval.fit(train)\n",
    "    predictions = cvModel.transform(test)\n",
    "    rmse = evaluator.evaluate(predictions)\n",
    "    print(f'RMSE is {rmse}')"
   ]
  },
  {
   "cell_type": "code",
   "execution_count": 5,
   "metadata": {},
   "outputs": [
    {
     "name": "stdout",
     "output_type": "stream",
     "text": [
      "RMSE is 0.8694231438939172\n"
     ]
    }
   ],
   "source": [
    "cross_validation(ratings_spark_df)"
   ]
  },
  {
   "cell_type": "code",
   "execution_count": 6,
   "metadata": {},
   "outputs": [
    {
     "name": "stdout",
     "output_type": "stream",
     "text": [
      "Rank is 1\n",
      "RMSE is 0.8871014213037948\n",
      "Rank is 2\n",
      "RMSE is 0.8974948664149236\n",
      "Rank is 4\n",
      "RMSE is 0.8800144934123687\n",
      "Rank is 8\n",
      "RMSE is 0.8801364316892615\n",
      "Rank is 16\n",
      "RMSE is 0.8748032123241689\n",
      "Rank is 32\n",
      "RMSE is 0.8744625657196862\n",
      "Rank is 64\n",
      "RMSE is 0.8747209651359298\n",
      "Rank is 128\n",
      "RMSE is 0.8724476209688208\n",
      "RMSE is 0.8747209651359298\n",
      "MAE = {regressionmetrics.meanAbsoluteError}\n"
     ]
    }
   ],
   "source": [
    "rmse_dict = get_best_rank(ratings_spark_df)\n",
    "get_rank_report(ratings_spark_df)\n",
    "#print(\"RMSE=\" + str(rmse_dict))\n",
    "#predictions.show()"
   ]
  },
  {
   "cell_type": "code",
   "execution_count": 15,
   "metadata": {},
   "outputs": [
    {
     "data": {
      "text/plain": [
       "[dict_keys([1, 2, 4, 8, 16, 32, 64, 128])]"
      ]
     },
     "execution_count": 15,
     "metadata": {},
     "output_type": "execute_result"
    }
   ],
   "source": [
    "rmse_dict[0].keys()"
   ]
  },
  {
   "cell_type": "code",
   "execution_count": 17,
   "metadata": {},
   "outputs": [
    {
     "data": {
      "image/png": "[encoded data removed]",
      "text/plain": [
       "<Figure size 432x288 with 1 Axes>"
      ]
     },
     "metadata": {
      "needs_background": "light"
     },
     "output_type": "display_data"
    }
   ],
   "source": [
    "import matplotlib.pyplot as plt\n",
    "%matplotlib inline\n",
    "\n",
    "plt.plot(list(rmse_dict[0].values()))\n",
    "plt.xlabel()\n",
    "plt.show()"
   ]
  }
 ],
 "metadata": {
  "kernelspec": {
   "display_name": "Python 3",
   "language": "python",
   "name": "python3"
  },
  "language_info": {
   "codemirror_mode": {
    "name": "ipython",
    "version": 3
   },
   "file_extension": ".py",
   "mimetype": "text/x-python",
   "name": "python",
   "nbconvert_exporter": "python",
   "pygments_lexer": "ipython3",
   "version": "3.7.4"
  }
 },
 "nbformat": 4,
 "nbformat_minor": 2
}
